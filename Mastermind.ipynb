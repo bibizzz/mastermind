{
 "cells": [
  {
   "cell_type": "code",
   "execution_count": 2,
   "metadata": {},
   "outputs": [
    {
     "name": "stdout",
     "output_type": "stream",
     "text": [
      "2.1187228268618874\n",
      "[51.77469135802469, 51.77469135802469, 51.77469135802469, 51.77469135802469, 51.77469135802469, 51.77469135802469]\n",
      "(0, 2)\n"
     ]
    }
   ],
   "source": [
    "import mastermind as mm\n",
    "import numpy as np\n",
    "import operator\n",
    "import random\n",
    "import matplotlib.pyplot as plt\n",
    "%matplotlib inline\n",
    "import time\n",
    "import pylab as pl"
   ]
  },
  {
   "cell_type": "code",
   "execution_count": 3,
   "metadata": {},
   "outputs": [],
   "source": [
    "colours = 8\n",
    "places = 5\n",
    "\n",
    "starting_set = mm.Set(places, colours)\n",
    "s = mm.Set(places, colours)\n",
    "s.beginning_set()\n",
    "g = mm.Guess(\"01234\")\n",
    "pr = g.proba(s)\n",
    "g.entropy()\n",
    "#pr = g.distribution"
   ]
  },
  {
   "cell_type": "code",
   "execution_count": 4,
   "metadata": {},
   "outputs": [
    {
     "name": "stdout",
     "output_type": "stream",
     "text": [
      "32768.0\n"
     ]
    },
    {
     "data": {
      "text/plain": [
       "7070"
      ]
     },
     "execution_count": 4,
     "metadata": {},
     "output_type": "execute_result"
    }
   ],
   "source": [
    "print(s.cardinal)\n",
    "r =  s.new_set(\"01234\", (0,5))\n",
    "r02 = s.new_set(\"01234\", (0,2))\n",
    "\n",
    "r.cardinal\n",
    "r02.cardinal"
   ]
  },
  {
   "cell_type": "code",
   "execution_count": 5,
   "metadata": {},
   "outputs": [
    {
     "name": "stdout",
     "output_type": "stream",
     "text": [
      "44\n"
     ]
    },
    {
     "data": {
      "text/plain": [
       "0.6931471805599453"
      ]
     },
     "execution_count": 5,
     "metadata": {},
     "output_type": "execute_result"
    }
   ],
   "source": [
    "gi = mm.Guess(\"56700\")\n",
    "the_set = r\n",
    "print(the_set.cardinal)\n",
    "pri = gi.proba(the_set)\n",
    "gi.entropy()\n",
    "gi.ent"
   ]
  },
  {
   "cell_type": "code",
   "execution_count": 6,
   "metadata": {},
   "outputs": [
    {
     "name": "stdout",
     "output_type": "stream",
     "text": [
      "['42310', '24310', '32410', '23410', '43120', '34120', '14320', '13420', '32140', '23140', '12340', '42301', '24301', '32401', '23401', '43021', '34021', '40321', '30421', '32041', '23041', '20341', '43102', '34102', '14302', '13402', '43012', '34012', '40312', '30412', '13042', '30142', '10342', '42103', '24103', '12403', '42013', '24013', '20413', '14023', '40123', '10423', '12043', '20143']\n"
     ]
    }
   ],
   "source": [
    "print(r.positions)"
   ]
  },
  {
   "cell_type": "code",
   "execution_count": 7,
   "metadata": {},
   "outputs": [
    {
     "name": "stdout",
     "output_type": "stream",
     "text": [
      "5.22 µs ± 2.1 µs per loop (mean ± std. dev. of 7 runs, 50 loops each)\n"
     ]
    }
   ],
   "source": [
    "%timeit -n 50 mm.Guess(\"01234\").response(\"12300\")"
   ]
  },
  {
   "cell_type": "code",
   "execution_count": 8,
   "metadata": {},
   "outputs": [
    {
     "data": {
      "text/plain": [
       "4"
      ]
     },
     "execution_count": 8,
     "metadata": {},
     "output_type": "execute_result"
    }
   ],
   "source": [
    "code = list(\"12345\")\n",
    "code.index('5')"
   ]
  },
  {
   "cell_type": "code",
   "execution_count": 9,
   "metadata": {},
   "outputs": [
    {
     "data": {
      "text/plain": [
       "21"
      ]
     },
     "execution_count": 9,
     "metadata": {},
     "output_type": "execute_result"
    }
   ],
   "source": [
    "# all possible answers\n",
    "all_responses = [(i,j) for i in range(6) for j in range(6) if i+j < 6]\n",
    "len(all_responses)"
   ]
  },
  {
   "cell_type": "code",
   "execution_count": 10,
   "metadata": {},
   "outputs": [
    {
     "name": "stdout",
     "output_type": "stream",
     "text": [
      "(2, 1)\n",
      "1.73 µs ± 153 ns per loop (mean ± std. dev. of 7 runs, 1000000 loops each)\n",
      "1.24 µs ± 162 ns per loop (mean ± std. dev. of 7 runs, 1000000 loops each)\n"
     ]
    }
   ],
   "source": [
    "#\n",
    "def response2(code, guess):\n",
    "    black = white = 0\n",
    "    code = list(code)\n",
    "    guess = list(guess)\n",
    "    l = range(len(code))\n",
    "    for i in l:\n",
    "        if code[i] == guess[i]:\n",
    "            black += 1\n",
    "            code[i] = 'X'\n",
    "        else:\n",
    "            if guess[i] in code:\n",
    "                white += 1\n",
    "                code[code.index(guess[i])] = 'X'\n",
    "    return (black, white)\n",
    "\n",
    "def response2_l(code, guess):\n",
    "    black = white = 0\n",
    "    for i in range(len(code)):\n",
    "        if code[i] == guess[i]:\n",
    "            black += 1\n",
    "            code[i] = 'X'\n",
    "            guess[i] = 'X'\n",
    "        else:\n",
    "            if guess[i] in code:\n",
    "                white += 1\n",
    "                code[code.index(guess[i])] = 'X'\n",
    "    return (black, white)\n",
    "\n",
    "print(response2(\"12345\", \"00315\"))\n",
    "c = list(\"12345\")\n",
    "g = list(\"00315\")\n",
    "%timeit response2(\"12345\", \"00315\")\n",
    "%timeit response2_l(c, g)"
   ]
  },
  {
   "cell_type": "code",
   "execution_count": 11,
   "metadata": {},
   "outputs": [
    {
     "name": "stdout",
     "output_type": "stream",
     "text": [
      "['0', '0', 'X', '1', 'X']\n"
     ]
    }
   ],
   "source": [
    "print(g)"
   ]
  },
  {
   "cell_type": "code",
   "execution_count": 12,
   "metadata": {},
   "outputs": [
    {
     "data": {
      "image/png": "[encoded data removed]",
      "text/plain": [
       "<Figure size 432x288 with 1 Axes>"
      ]
     },
     "metadata": {
      "needs_background": "light"
     },
     "output_type": "display_data"
    }
   ],
   "source": [
    "# histogram for 5 different colours\n",
    "pr_plot = [pr[i][1] for i in range(len(pr))]\n",
    "plt.plot(pr_plot)\n",
    "plt.show()"
   ]
  },
  {
   "cell_type": "code",
   "execution_count": 13,
   "metadata": {},
   "outputs": [],
   "source": [
    "# for the first try only 5 different possibilities (by symetry)\n",
    "guess_list = [\"01234\", \"00123\", \"00012\", \"00001\", \"00000\"]\n",
    "\n",
    "entrop_first = []\n",
    "prs_plot = []\n",
    "\n",
    "for g in guess_list:\n",
    "    si = mm.Set(places, colours)\n",
    "    si.beginning_set()\n",
    "    gi = mm.Guess(g)\n",
    "    pri = gi.proba(s)\n",
    "    gi.entropy()\n",
    "    entrop_first.append(gi.ent)\n",
    "    pri_plot = [pri[i][1] for i in range(len(pri))]\n",
    "    prs_plot.append(pri_plot)"
   ]
  },
  {
   "cell_type": "code",
   "execution_count": 70,
   "metadata": {},
   "outputs": [
    {
     "data": {
      "text/plain": [
       "[2.2399421321017403,\n",
       " 2.2446239470098046,\n",
       " 2.1230193638281203,\n",
       " 1.8313223095301954,\n",
       " 1.0170366574100151]"
      ]
     },
     "execution_count": 70,
     "metadata": {},
     "output_type": "execute_result"
    }
   ],
   "source": [
    "entrop_first"
   ]
  },
  {
   "cell_type": "code",
   "execution_count": 71,
   "metadata": {},
   "outputs": [
    {
     "data": {
      "image/png": "[encoded data removed]",
      "text/plain": [
       "<Figure size 432x288 with 1 Axes>"
      ]
     },
     "metadata": {
      "needs_background": "light"
     },
     "output_type": "display_data"
    }
   ],
   "source": [
    "plt.plot(entrop_first)\n",
    "plt.show()"
   ]
  },
  {
   "cell_type": "code",
   "execution_count": 6,
   "metadata": {},
   "outputs": [
    {
     "data": {
      "text/plain": [
       "[20, 20, 19, 14, 6]"
      ]
     },
     "execution_count": 6,
     "metadata": {},
     "output_type": "execute_result"
    }
   ],
   "source": [
    "[len(p) for p in prs_plot]"
   ]
  },
  {
   "cell_type": "code",
   "execution_count": 11,
   "metadata": {},
   "outputs": [
    {
     "data": {
      "image/png": "[encoded data removed]",
      "text/plain": [
       "<Figure size 432x288 with 1 Axes>"
      ]
     },
     "metadata": {
      "needs_background": "light"
     },
     "output_type": "display_data"
    }
   ],
   "source": [
    "\n",
    "plt.plot(np.array(prs_plot[:2]).T)\n",
    "plt.show()"
   ]
  },
  {
   "cell_type": "code",
   "execution_count": 319,
   "metadata": {},
   "outputs": [],
   "source": [
    "def best_guess_distr(test_set):\n",
    "    ret_f = {}\n",
    "    init_set = mm.Set(places, colours)\n",
    "    init_set.beginning_set()\n",
    "    for g in init_set.positions:\n",
    "        f = mm.Guess(g)\n",
    "        f.proba(test_set)\n",
    "        m = mm.get_dict_max(f.distribution)\n",
    "        ret_f[g] = m[1]\n",
    "    ret_s = sorted(ret_f.items(), key=operator.itemgetter(1))\n",
    "    return ret_s\n",
    "\n",
    "def best_guess_entr(test_set):\n",
    "    ret_f = {}\n",
    "    init_set = mm.Set(places, colours)\n",
    "    init_set.beginning_set()\n",
    "    i = 0\n",
    "    for g in init_set.positions:\n",
    "        f = mm.Guess(g)\n",
    "        f.proba(test_set)\n",
    "        f.entropy()\n",
    "        m = mm.get_dict_max(f.distribution)\n",
    "        ret_f[g] = round(f.ent,6)\n",
    "        i += 1\n",
    "        if i%1000 == 0:\n",
    "            print(i)\n",
    "    ret_s = sorted(ret_f.items(), key=operator.itemgetter(1))\n",
    "    return ret_s\n",
    "\n",
    "def bg_short(test_set):\n",
    "    ret_f = {}\n",
    "    init_set = mm.Set(places, colours)\n",
    "    init_set.beginning_set()\n",
    "    for g in init_set.positions:\n",
    "        f = mm.Guess(g)\n",
    "        f.proba(test_set)\n",
    "        f.entropy()\n",
    "        m = mm.get_dict_max(f.distribution)\n",
    "        ret_f[g] = round(f.ent,6)\n",
    "    ret_s = sorted(ret_f.items(), key=operator.itemgetter(1))\n",
    "    return ret_s\n",
    "\n"
   ]
  },
  {
   "cell_type": "code",
   "execution_count": 45,
   "metadata": {},
   "outputs": [],
   "source": [
    "result = best_guess_entr(r)"
   ]
  },
  {
   "cell_type": "code",
   "execution_count": 161,
   "metadata": {},
   "outputs": [
    {
     "name": "stdout",
     "output_type": "stream",
     "text": [
      "The slowest run took 50.84 times longer than the fastest. This could mean that an intermediate result is being cached.\n",
      "55.9 s ± 1min 51s per loop (mean ± std. dev. of 7 runs, 3 loops each)\n"
     ]
    }
   ],
   "source": [
    "%timeit -n 3 best_guess_entr(r)"
   ]
  },
  {
   "cell_type": "code",
   "execution_count": 46,
   "metadata": {},
   "outputs": [
    {
     "data": {
      "text/plain": [
       "[('13042', 1.396959),\n",
       " ('30142', 1.396959),\n",
       " ('24103', 1.396959),\n",
       " ('12403', 1.396959),\n",
       " ('42013', 1.396959),\n",
       " ('20413', 1.396959),\n",
       " ('14023', 1.396959),\n",
       " ('40123', 1.396959)]"
      ]
     },
     "execution_count": 46,
     "metadata": {},
     "output_type": "execute_result"
    }
   ],
   "source": [
    "result[-8:]"
   ]
  },
  {
   "cell_type": "code",
   "execution_count": 322,
   "metadata": {},
   "outputs": [
    {
     "name": "stdout",
     "output_type": "stream",
     "text": [
      "nb of guesses: 24\n"
     ]
    }
   ],
   "source": [
    "def best_guess_list(result_list):\n",
    "    if len(result_list) == 1:\n",
    "        return result_list\n",
    "    ret = []\n",
    "    best_entropy = result_list[-1][1]\n",
    "    #print(best_entropy)\n",
    "    i = 1\n",
    "    while result_list[-i][1] >= best_entropy:\n",
    "        ret.append(result_list[-i][0])\n",
    "        i += 1\n",
    "    return ret\n",
    "\n",
    "print(\"nb of guesses: %s\" %len(best_guess_list(result)))"
   ]
  },
  {
   "cell_type": "code",
   "execution_count": 103,
   "metadata": {},
   "outputs": [
    {
     "data": {
      "text/plain": [
       "<mastermind.Set at 0x1b794073128>"
      ]
     },
     "execution_count": 103,
     "metadata": {},
     "output_type": "execute_result"
    }
   ],
   "source": [
    "r"
   ]
  },
  {
   "cell_type": "code",
   "execution_count": 105,
   "metadata": {},
   "outputs": [
    {
     "data": {
      "text/plain": [
       "'32410'"
      ]
     },
     "execution_count": 105,
     "metadata": {},
     "output_type": "execute_result"
    }
   ],
   "source": []
  },
  {
   "cell_type": "code",
   "execution_count": 104,
   "metadata": {},
   "outputs": [
    {
     "data": {
      "text/plain": [
       "{(5, 0): 1, (3, 2): 6, (2, 3): 7, (1, 4): 18, (0, 5): 12}"
      ]
     },
     "execution_count": 104,
     "metadata": {},
     "output_type": "execute_result"
    }
   ],
   "source": [
    "f = mm.Guess(\"42310\")\n",
    "f.proba(r)\n",
    "f.distribution"
   ]
  },
  {
   "cell_type": "code",
   "execution_count": 138,
   "metadata": {},
   "outputs": [
    {
     "data": {
      "text/plain": [
       "{(1, 4): 15, (2, 3): 10, (3, 2): 5, (0, 5): 13, (5, 0): 1}"
      ]
     },
     "execution_count": 138,
     "metadata": {},
     "output_type": "execute_result"
    }
   ],
   "source": [
    "f = mm.Guess(\"20413\")\n",
    "f.proba(r)\n",
    "f.distribution"
   ]
  },
  {
   "cell_type": "code",
   "execution_count": 159,
   "metadata": {},
   "outputs": [
    {
     "data": {
      "text/plain": [
       "['23410', '30412', '24013', '10423', '20143']"
      ]
     },
     "execution_count": 159,
     "metadata": {},
     "output_type": "execute_result"
    }
   ],
   "source": [
    "[pos for pos in r.positions if mm.Guess(\"20413\").response(pos) == (3,2)]"
   ]
  },
  {
   "cell_type": "code",
   "execution_count": 160,
   "metadata": {},
   "outputs": [
    {
     "data": {
      "text/plain": [
       "['24310', '32410', '12340', '42301', '40312', '42013']"
      ]
     },
     "execution_count": 160,
     "metadata": {},
     "output_type": "execute_result"
    }
   ],
   "source": [
    "[pos for pos in r.positions if mm.Guess(\"42310\").response(pos) == (3,2)]"
   ]
  },
  {
   "cell_type": "code",
   "execution_count": 158,
   "metadata": {},
   "outputs": [
    {
     "data": {
      "text/plain": [
       "44"
      ]
     },
     "execution_count": 158,
     "metadata": {},
     "output_type": "execute_result"
    }
   ],
   "source": [
    "res_d = dict(result)\n",
    "res_d[\"42310\"]\n",
    "r.cardinal"
   ]
  },
  {
   "cell_type": "code",
   "execution_count": 14,
   "metadata": {},
   "outputs": [],
   "source": [
    "class Game:\n",
    "    def __init__(self, places=5, colors=8, code = \"\"):\n",
    "        self.places = places\n",
    "        self.colors = colors\n",
    "        self.guess_list = list()\n",
    "        self.resp_list = list()\n",
    "        self.set_list = list()\n",
    "        init_set = mm.Set(places, colors)\n",
    "        init_set.beginning_set()\n",
    "        self.set_list.append(init_set)\n",
    "        self.cur_move = 0\n",
    "        if code == \"\":\n",
    "            self.code = \"\".join([str(random.randint(0,colors-1)) for _ in range(places)])\n",
    "        else: \n",
    "            self.code = code\n",
    "        print(\"Code : \", self.code)\n",
    "        \n",
    "    def play(self, guess, response):\n",
    "\n",
    "        cur_guess = mm.Guess(guess)\n",
    "        self.guess_list.append(mm.Guess(guess))\n",
    "        self.resp_list.append(response)\n",
    "        self.set_list.append(self.set_list[self.cur_move].new_set(guess, response))\n",
    "        self.cur_move += 1\n",
    "    \n",
    "    def automatic_play(self, play_function):\n",
    "        while True or self.cur_move < 15:\n",
    "            gu = play_function(self.set_list[self.cur_move])\n",
    "            resp = mm.Guess(gu).response(self.code)\n",
    "            self.play(gu , resp)\n",
    "            print(\"Try %d: played %s, response %s, %d possiblities left\" %(self.cur_move, gu, resp, \n",
    "                                                            self.set_list[self.cur_move].cardinal )) \n",
    "            if resp == (5,0):\n",
    "                return self.cur_move\n",
    "    "
   ]
  },
  {
   "cell_type": "code",
   "execution_count": 1,
   "metadata": {},
   "outputs": [
    {
     "ename": "NameError",
     "evalue": "name 'Game' is not defined",
     "output_type": "error",
     "traceback": [
      "\u001b[1;31m---------------------------------------------------------------------------\u001b[0m",
      "\u001b[1;31mNameError\u001b[0m                                 Traceback (most recent call last)",
      "\u001b[1;32m<ipython-input-1-5b4a3628a9e2>\u001b[0m in \u001b[0;36m<module>\u001b[1;34m\u001b[0m\n\u001b[1;32m----> 1\u001b[1;33m \u001b[0mg\u001b[0m \u001b[1;33m=\u001b[0m \u001b[0mGame\u001b[0m\u001b[1;33m(\u001b[0m\u001b[0mcode\u001b[0m \u001b[1;33m=\u001b[0m \u001b[1;34m\"01234\"\u001b[0m\u001b[1;33m)\u001b[0m\u001b[1;33m\u001b[0m\u001b[1;33m\u001b[0m\u001b[0m\n\u001b[0m\u001b[0;32m      2\u001b[0m \u001b[0mg\u001b[0m\u001b[1;33m.\u001b[0m\u001b[0mautomatic_play\u001b[0m\u001b[1;33m(\u001b[0m\u001b[0mplay_guess_random\u001b[0m\u001b[1;33m)\u001b[0m\u001b[1;33m\u001b[0m\u001b[1;33m\u001b[0m\u001b[0m\n",
      "\u001b[1;31mNameError\u001b[0m: name 'Game' is not defined"
     ]
    }
   ],
   "source": [
    "g = Game(code = \"01234\")\n",
    "g.automatic_play(play_guess_random)"
   ]
  },
  {
   "cell_type": "code",
   "execution_count": 218,
   "metadata": {},
   "outputs": [],
   "source": [
    "def playguess_random(set_list):\n",
    "    g = random.randint(0, set_list.cardinal-1)\n",
    "    return set_list.positions[g]\n",
    "\n",
    "def play_bg_entr(set_list):\n",
    "    res = best_guess_entr(set_list)\n",
    "    bg = best_guess_list(res)\n",
    "    g = random.randint(0, len(bg)-1)\n",
    "    return bg[g]"
   ]
  },
  {
   "cell_type": "code",
   "execution_count": 219,
   "metadata": {},
   "outputs": [],
   "source": [
    "def play_bg_second(set_list):\n",
    "    if set_list.cardinal > 30000:\n",
    "        return(\"01234\")\n",
    "    else:\n",
    "        return(play_bg_entr(set_list))"
   ]
  },
  {
   "cell_type": "code",
   "execution_count": 321,
   "metadata": {},
   "outputs": [
    {
     "name": "stdout",
     "output_type": "stream",
     "text": [
      "Code :  40003\n",
      "Try 1: played 01234, response (0, 3), 5610 possiblities left\n",
      "start\n",
      "1000\n",
      "2000\n",
      "3000\n",
      "4000\n",
      "5000\n",
      "6000\n",
      "7000\n",
      "8000\n",
      "9000\n",
      "10000\n",
      "11000\n",
      "12000\n",
      "13000\n",
      "14000\n",
      "15000\n",
      "16000\n",
      "17000\n",
      "18000\n",
      "19000\n",
      "20000\n",
      "21000\n",
      "22000\n",
      "23000\n",
      "24000\n",
      "25000\n",
      "26000\n",
      "27000\n",
      "28000\n",
      "29000\n",
      "30000\n",
      "31000\n",
      "32000\n",
      "middle\n",
      "Try 2: played 42367, response (1, 1), 744 possiblities left\n",
      "start\n",
      "1000\n",
      "2000\n",
      "3000\n",
      "4000\n",
      "5000\n",
      "6000\n",
      "7000\n",
      "8000\n",
      "9000\n",
      "10000\n",
      "11000\n",
      "12000\n",
      "13000\n",
      "14000\n",
      "15000\n",
      "16000\n",
      "17000\n",
      "18000\n",
      "19000\n",
      "20000\n",
      "21000\n",
      "22000\n",
      "23000\n",
      "24000\n",
      "25000\n",
      "26000\n",
      "27000\n",
      "28000\n",
      "29000\n",
      "30000\n",
      "31000\n",
      "32000\n",
      "middle\n",
      "Try 3: played 47501, response (2, 0), 37 possiblities left\n",
      "start\n",
      "1000\n",
      "2000\n",
      "3000\n",
      "4000\n",
      "5000\n",
      "6000\n",
      "7000\n",
      "8000\n",
      "9000\n",
      "10000\n",
      "11000\n",
      "12000\n",
      "13000\n",
      "14000\n",
      "15000\n",
      "16000\n",
      "17000\n",
      "18000\n",
      "19000\n",
      "20000\n",
      "21000\n",
      "22000\n",
      "23000\n",
      "24000\n",
      "25000\n",
      "26000\n",
      "27000\n",
      "28000\n",
      "29000\n",
      "30000\n",
      "31000\n",
      "32000\n",
      "middle\n",
      "Try 4: played 04003, response (3, 2), 1 possiblities left\n",
      "start\n",
      "1000\n",
      "2000\n",
      "3000\n",
      "4000\n",
      "5000\n",
      "6000\n",
      "7000\n",
      "8000\n",
      "9000\n",
      "10000\n",
      "11000\n",
      "12000\n",
      "13000\n",
      "14000\n",
      "15000\n",
      "16000\n",
      "17000\n",
      "18000\n",
      "19000\n",
      "20000\n",
      "21000\n",
      "22000\n",
      "23000\n",
      "24000\n",
      "25000\n",
      "26000\n",
      "27000\n",
      "28000\n",
      "29000\n",
      "30000\n",
      "31000\n",
      "32000\n",
      "middle\n"
     ]
    },
    {
     "ename": "IndexError",
     "evalue": "list index out of range",
     "output_type": "error",
     "traceback": [
      "\u001b[1;31m---------------------------------------------------------------------------\u001b[0m",
      "\u001b[1;31mIndexError\u001b[0m                                Traceback (most recent call last)",
      "\u001b[1;32m<ipython-input-321-b0b2064f0567>\u001b[0m in \u001b[0;36m<module>\u001b[1;34m\u001b[0m\n\u001b[0;32m      1\u001b[0m \u001b[0mg\u001b[0m \u001b[1;33m=\u001b[0m \u001b[0mGame\u001b[0m\u001b[1;33m(\u001b[0m\u001b[1;33m)\u001b[0m\u001b[1;33m\u001b[0m\u001b[1;33m\u001b[0m\u001b[0m\n\u001b[1;32m----> 2\u001b[1;33m \u001b[0mg\u001b[0m\u001b[1;33m.\u001b[0m\u001b[0mautomatic_play\u001b[0m\u001b[1;33m(\u001b[0m\u001b[0mplay_bg_second\u001b[0m\u001b[1;33m)\u001b[0m\u001b[1;33m\u001b[0m\u001b[1;33m\u001b[0m\u001b[0m\n\u001b[0m",
      "\u001b[1;32m<ipython-input-231-b75e7f785912>\u001b[0m in \u001b[0;36mautomatic_play\u001b[1;34m(self, play_function)\u001b[0m\n\u001b[0;32m     26\u001b[0m     \u001b[1;32mdef\u001b[0m \u001b[0mautomatic_play\u001b[0m\u001b[1;33m(\u001b[0m\u001b[0mself\u001b[0m\u001b[1;33m,\u001b[0m \u001b[0mplay_function\u001b[0m\u001b[1;33m)\u001b[0m\u001b[1;33m:\u001b[0m\u001b[1;33m\u001b[0m\u001b[1;33m\u001b[0m\u001b[0m\n\u001b[0;32m     27\u001b[0m         \u001b[1;32mwhile\u001b[0m \u001b[1;32mTrue\u001b[0m \u001b[1;32mor\u001b[0m \u001b[0mself\u001b[0m\u001b[1;33m.\u001b[0m\u001b[0mcur_move\u001b[0m \u001b[1;33m<\u001b[0m \u001b[1;36m15\u001b[0m\u001b[1;33m:\u001b[0m\u001b[1;33m\u001b[0m\u001b[1;33m\u001b[0m\u001b[0m\n\u001b[1;32m---> 28\u001b[1;33m             \u001b[0mgu\u001b[0m \u001b[1;33m=\u001b[0m \u001b[0mplay_function\u001b[0m\u001b[1;33m(\u001b[0m\u001b[0mself\u001b[0m\u001b[1;33m.\u001b[0m\u001b[0mset_list\u001b[0m\u001b[1;33m[\u001b[0m\u001b[0mself\u001b[0m\u001b[1;33m.\u001b[0m\u001b[0mcur_move\u001b[0m\u001b[1;33m]\u001b[0m\u001b[1;33m)\u001b[0m\u001b[1;33m\u001b[0m\u001b[1;33m\u001b[0m\u001b[0m\n\u001b[0m\u001b[0;32m     29\u001b[0m             \u001b[0mresp\u001b[0m \u001b[1;33m=\u001b[0m \u001b[0mmm\u001b[0m\u001b[1;33m.\u001b[0m\u001b[0mGuess\u001b[0m\u001b[1;33m(\u001b[0m\u001b[0mgu\u001b[0m\u001b[1;33m)\u001b[0m\u001b[1;33m.\u001b[0m\u001b[0mresponse\u001b[0m\u001b[1;33m(\u001b[0m\u001b[0mself\u001b[0m\u001b[1;33m.\u001b[0m\u001b[0mcode\u001b[0m\u001b[1;33m)\u001b[0m\u001b[1;33m\u001b[0m\u001b[1;33m\u001b[0m\u001b[0m\n\u001b[0;32m     30\u001b[0m             \u001b[0mself\u001b[0m\u001b[1;33m.\u001b[0m\u001b[0mplay\u001b[0m\u001b[1;33m(\u001b[0m\u001b[0mgu\u001b[0m \u001b[1;33m,\u001b[0m \u001b[0mresp\u001b[0m\u001b[1;33m)\u001b[0m\u001b[1;33m\u001b[0m\u001b[1;33m\u001b[0m\u001b[0m\n",
      "\u001b[1;32m<ipython-input-219-29388c65b336>\u001b[0m in \u001b[0;36mplay_bg_second\u001b[1;34m(set_list)\u001b[0m\n\u001b[0;32m      3\u001b[0m         \u001b[1;32mreturn\u001b[0m\u001b[1;33m(\u001b[0m\u001b[1;34m\"01234\"\u001b[0m\u001b[1;33m)\u001b[0m\u001b[1;33m\u001b[0m\u001b[1;33m\u001b[0m\u001b[0m\n\u001b[0;32m      4\u001b[0m     \u001b[1;32melse\u001b[0m\u001b[1;33m:\u001b[0m\u001b[1;33m\u001b[0m\u001b[1;33m\u001b[0m\u001b[0m\n\u001b[1;32m----> 5\u001b[1;33m         \u001b[1;32mreturn\u001b[0m\u001b[1;33m(\u001b[0m\u001b[0mplay_bg_entr\u001b[0m\u001b[1;33m(\u001b[0m\u001b[0mset_list\u001b[0m\u001b[1;33m)\u001b[0m\u001b[1;33m)\u001b[0m\u001b[1;33m\u001b[0m\u001b[1;33m\u001b[0m\u001b[0m\n\u001b[0m",
      "\u001b[1;32m<ipython-input-218-6c3ecd7b6d99>\u001b[0m in \u001b[0;36mplay_bg_entr\u001b[1;34m(set_list)\u001b[0m\n\u001b[0;32m      7\u001b[0m     \u001b[0mres\u001b[0m \u001b[1;33m=\u001b[0m \u001b[0mbest_guess_entr\u001b[0m\u001b[1;33m(\u001b[0m\u001b[0mset_list\u001b[0m\u001b[1;33m)\u001b[0m\u001b[1;33m\u001b[0m\u001b[1;33m\u001b[0m\u001b[0m\n\u001b[0;32m      8\u001b[0m     \u001b[0mprint\u001b[0m\u001b[1;33m(\u001b[0m\u001b[1;34m'middle'\u001b[0m\u001b[1;33m)\u001b[0m\u001b[1;33m\u001b[0m\u001b[1;33m\u001b[0m\u001b[0m\n\u001b[1;32m----> 9\u001b[1;33m     \u001b[0mbg\u001b[0m \u001b[1;33m=\u001b[0m \u001b[0mbest_guess_list\u001b[0m\u001b[1;33m(\u001b[0m\u001b[0mres\u001b[0m\u001b[1;33m)\u001b[0m\u001b[1;33m\u001b[0m\u001b[1;33m\u001b[0m\u001b[0m\n\u001b[0m\u001b[0;32m     10\u001b[0m     \u001b[0mg\u001b[0m \u001b[1;33m=\u001b[0m \u001b[0mrandom\u001b[0m\u001b[1;33m.\u001b[0m\u001b[0mrandint\u001b[0m\u001b[1;33m(\u001b[0m\u001b[1;36m0\u001b[0m\u001b[1;33m,\u001b[0m \u001b[0mlen\u001b[0m\u001b[1;33m(\u001b[0m\u001b[0mbg\u001b[0m\u001b[1;33m)\u001b[0m\u001b[1;33m-\u001b[0m\u001b[1;36m1\u001b[0m\u001b[1;33m)\u001b[0m\u001b[1;33m\u001b[0m\u001b[1;33m\u001b[0m\u001b[0m\n\u001b[0;32m     11\u001b[0m     \u001b[1;32mreturn\u001b[0m \u001b[0mbg\u001b[0m\u001b[1;33m[\u001b[0m\u001b[0mg\u001b[0m\u001b[1;33m]\u001b[0m\u001b[1;33m\u001b[0m\u001b[1;33m\u001b[0m\u001b[0m\n",
      "\u001b[1;32m<ipython-input-57-e774f22b6f90>\u001b[0m in \u001b[0;36mbest_guess_list\u001b[1;34m(result_list)\u001b[0m\n\u001b[0;32m      4\u001b[0m     \u001b[1;31m#print(best_entropy)\u001b[0m\u001b[1;33m\u001b[0m\u001b[1;33m\u001b[0m\u001b[1;33m\u001b[0m\u001b[0m\n\u001b[0;32m      5\u001b[0m     \u001b[0mi\u001b[0m \u001b[1;33m=\u001b[0m \u001b[1;36m1\u001b[0m\u001b[1;33m\u001b[0m\u001b[1;33m\u001b[0m\u001b[0m\n\u001b[1;32m----> 6\u001b[1;33m     \u001b[1;32mwhile\u001b[0m \u001b[0mresult_list\u001b[0m\u001b[1;33m[\u001b[0m\u001b[1;33m-\u001b[0m\u001b[0mi\u001b[0m\u001b[1;33m]\u001b[0m\u001b[1;33m[\u001b[0m\u001b[1;36m1\u001b[0m\u001b[1;33m]\u001b[0m \u001b[1;33m>=\u001b[0m \u001b[0mbest_entropy\u001b[0m\u001b[1;33m:\u001b[0m\u001b[1;33m\u001b[0m\u001b[1;33m\u001b[0m\u001b[0m\n\u001b[0m\u001b[0;32m      7\u001b[0m         \u001b[0mret\u001b[0m\u001b[1;33m.\u001b[0m\u001b[0mappend\u001b[0m\u001b[1;33m(\u001b[0m\u001b[0mresult_list\u001b[0m\u001b[1;33m[\u001b[0m\u001b[1;33m-\u001b[0m\u001b[0mi\u001b[0m\u001b[1;33m]\u001b[0m\u001b[1;33m[\u001b[0m\u001b[1;36m0\u001b[0m\u001b[1;33m]\u001b[0m\u001b[1;33m)\u001b[0m\u001b[1;33m\u001b[0m\u001b[1;33m\u001b[0m\u001b[0m\n\u001b[0;32m      8\u001b[0m         \u001b[0mi\u001b[0m \u001b[1;33m+=\u001b[0m \u001b[1;36m1\u001b[0m\u001b[1;33m\u001b[0m\u001b[1;33m\u001b[0m\u001b[0m\n",
      "\u001b[1;31mIndexError\u001b[0m: list index out of range"
     ]
    }
   ],
   "source": [
    "g = Game()\n",
    "g.automatic_play(play_bg_second)"
   ]
  },
  {
   "cell_type": "code",
   "execution_count": null,
   "metadata": {},
   "outputs": [],
   "source": [
    "g = Game(code = \"40003\")\n",
    "g.automatic_play(play_guess_random)"
   ]
  },
  {
   "cell_type": "code",
   "execution_count": 227,
   "metadata": {},
   "outputs": [],
   "source": [
    "%load_ext line_profiler"
   ]
  },
  {
   "cell_type": "code",
   "execution_count": 237,
   "metadata": {},
   "outputs": [],
   "source": [
    "%lprun -f pro pro()"
   ]
  },
  {
   "cell_type": "code",
   "execution_count": 303,
   "metadata": {},
   "outputs": [
    {
     "name": "stdout",
     "output_type": "stream",
     "text": [
      "36 ms ± 2.23 ms per loop (mean ± std. dev. of 7 runs, 10 loops each)\n"
     ]
    },
    {
     "data": {
      "text/plain": [
       "[((0, 0), 77),\n",
       " ((0, 1), 720),\n",
       " ((0, 2), 1973),\n",
       " ((0, 3), 1429),\n",
       " ((0, 4), 303),\n",
       " ((1, 0), 156),\n",
       " ((1, 1), 836),\n",
       " ((1, 2), 861),\n",
       " ((1, 3), 239),\n",
       " ((2, 0), 122),\n",
       " ((2, 1), 216),\n",
       " ((2, 2), 87),\n",
       " ((3, 0), 32),\n",
       " ((3, 1), 16),\n",
       " ((4, 0), 3)]"
      ]
     },
     "execution_count": 303,
     "metadata": {},
     "output_type": "execute_result"
    }
   ],
   "source": [
    "def proba(set_l, code ):\n",
    "    occ = {}\n",
    "    for elt in set_l.positions:\n",
    "        rep = response2(code, elt)\n",
    "        if rep in occ.keys():\n",
    "            occ[rep] += 1\n",
    "        else:\n",
    "            occ[rep] = 1\n",
    "    return sorted(occ.items(), key=operator.itemgetter(0))\n",
    "%lprun -f proba proba(r02,\"54260\")\n",
    "%timeit proba(r02,\"54260\")\n",
    "proba(r02,\"54260\")"
   ]
  },
  {
   "cell_type": "code",
   "execution_count": 301,
   "metadata": {},
   "outputs": [],
   "source": [
    "init_dict = dict.fromkeys(all_responses, 0)"
   ]
  },
  {
   "cell_type": "code",
   "execution_count": 305,
   "metadata": {},
   "outputs": [
    {
     "name": "stdout",
     "output_type": "stream",
     "text": [
      "34.5 ms ± 563 µs per loop (mean ± std. dev. of 7 runs, 10 loops each)\n"
     ]
    },
    {
     "data": {
      "text/plain": [
       "[((0, 0), 77),\n",
       " ((0, 1), 720),\n",
       " ((0, 2), 1973),\n",
       " ((0, 3), 1429),\n",
       " ((0, 4), 303),\n",
       " ((0, 5), 0),\n",
       " ((1, 0), 156),\n",
       " ((1, 1), 836),\n",
       " ((1, 2), 861),\n",
       " ((1, 3), 239),\n",
       " ((1, 4), 0),\n",
       " ((2, 0), 122),\n",
       " ((2, 1), 216),\n",
       " ((2, 2), 87),\n",
       " ((2, 3), 0),\n",
       " ((3, 0), 32),\n",
       " ((3, 1), 16),\n",
       " ((3, 2), 0),\n",
       " ((4, 0), 3),\n",
       " ((4, 1), 0),\n",
       " ((5, 0), 0)]"
      ]
     },
     "execution_count": 305,
     "metadata": {},
     "output_type": "execute_result"
    }
   ],
   "source": [
    "def proba2(set_l, code ):\n",
    "    occ = dict.fromkeys(all_responses, 0)\n",
    "    for elt in set_l.positions:\n",
    "        rep = response2(code, elt)\n",
    "        occ[rep] += 1\n",
    "    return sorted(occ.items(), key=operator.itemgetter(0))\n",
    "\n",
    "%lprun -f proba2 proba2(r02,\"54260\")\n",
    "%timeit proba2(r02,\"54260\")\n",
    "proba2(r02,\"54260\")"
   ]
  },
  {
   "cell_type": "code",
   "execution_count": 292,
   "metadata": {},
   "outputs": [],
   "source": [
    "%lprun -f response2 response2(\"01234\", \"54260\")"
   ]
  },
  {
   "cell_type": "code",
   "execution_count": 250,
   "metadata": {},
   "outputs": [
    {
     "data": {
      "text/plain": [
       "[((0, 0), 77),\n",
       " ((0, 1), 720),\n",
       " ((0, 2), 1973),\n",
       " ((0, 3), 1429),\n",
       " ((0, 4), 303),\n",
       " ((1, 0), 156),\n",
       " ((1, 1), 836),\n",
       " ((1, 2), 861),\n",
       " ((1, 3), 239),\n",
       " ((2, 0), 122),\n",
       " ((2, 1), 216),\n",
       " ((2, 2), 87),\n",
       " ((3, 0), 32),\n",
       " ((3, 1), 16),\n",
       " ((4, 0), 3)]"
      ]
     },
     "execution_count": 250,
     "metadata": {},
     "output_type": "execute_result"
    }
   ],
   "source": [
    "proba(r02,\"54260\")"
   ]
  },
  {
   "cell_type": "code",
   "execution_count": 290,
   "metadata": {},
   "outputs": [],
   "source": [
    "def response3(code, guess):\n",
    "    black, white = 0,0\n",
    "    code = list(code)\n",
    "    guess = list(guess)\n",
    "    l = range(len(code))\n",
    "    for i in l:\n",
    "        if guess[i] == code[i]:\n",
    "            black += 1\n",
    "            code[i] = 'X'\n",
    "        else:\n",
    "            try:\n",
    "                code[code.index(guess[i])] = 'X'\n",
    "                white += 1\n",
    "            except ValueError:\n",
    "                pass\n",
    "    return (black, white)\n",
    "\n",
    "%lprun -f response3 response3(\"01234\", \"54260\")"
   ]
  },
  {
   "cell_type": "code",
   "execution_count": 289,
   "metadata": {},
   "outputs": [
    {
     "data": {
      "text/plain": [
       "(1, 2)"
      ]
     },
     "execution_count": 289,
     "metadata": {},
     "output_type": "execute_result"
    }
   ],
   "source": [
    "response3(\"01234\", \"54260\")"
   ]
  },
  {
   "cell_type": "code",
   "execution_count": 313,
   "metadata": {},
   "outputs": [
    {
     "name": "stdout",
     "output_type": "stream",
     "text": [
      "4.52 µs ± 344 ns per loop (mean ± std. dev. of 7 runs, 100000 loops each)\n",
      "6.79 µs ± 86.9 ns per loop (mean ± std. dev. of 7 runs, 100000 loops each)\n"
     ]
    }
   ],
   "source": [
    "%timeit response2(\"01234\", \"54260\")\n",
    "%timeit response3(\"01234\", \"54260\")"
   ]
  },
  {
   "cell_type": "code",
   "execution_count": 316,
   "metadata": {},
   "outputs": [],
   "source": [
    "%lprun -f response2 response2(\"01234\", \"54260\")"
   ]
  },
  {
   "cell_type": "code",
   "execution_count": 317,
   "metadata": {},
   "outputs": [],
   "source": [
    "%lprun?"
   ]
  },
  {
   "cell_type": "code",
   "execution_count": null,
   "metadata": {},
   "outputs": [],
   "source": [
    "%%cython\n",
    "def f(a,b):\n",
    "    return a*b"
   ]
  },
  {
   "cell_type": "code",
   "execution_count": null,
   "metadata": {},
   "outputs": [],
   "source": [
    "sets = [[i+j % 8 for i in range 10 ] for j in range(10)]\n",
    "codes = np.repeat(code, 10)"
   ]
  },
  {
   "cell_type": "code",
   "execution_count": 332,
   "metadata": {},
   "outputs": [
    {
     "name": "stdout",
     "output_type": "stream",
     "text": [
      "[0, 1, 2, 3, 4, 5, 6, 7]\n",
      "5\n",
      "[(0, 0), (0, 1), (0, 2), (0, 3), (0, 4), (0, 5), (0, 6), (0, 7), (1, 0), (1, 1), (1, 2), (1, 3), (1, 4), (1, 5), (1, 6), (1, 7), (2, 0), (2, 1), (2, 2), (2, 3), (2, 4), (2, 5), (2, 6), (2, 7), (3, 0), (3, 1), (3, 2), (3, 3), (3, 4), (3, 5), (3, 6), (3, 7), (4, 0), (4, 1), (4, 2), (4, 3), (4, 4), (4, 5), (4, 6), (4, 7), (5, 0), (5, 1), (5, 2), (5, 3), (5, 4), (5, 5), (5, 6), (5, 7), (6, 0), (6, 1), (6, 2), (6, 3), (6, 4), (6, 5), (6, 6), (6, 7), (7, 0), (7, 1), (7, 2), (7, 3), (7, 4), (7, 5), (7, 6), (7, 7)]\n",
      "[((0, 0), 0), ((0, 0), 1), ((0, 0), 2), ((0, 0), 3), ((0, 0), 4), ((0, 0), 5), ((0, 0), 6), ((0, 0), 7), ((0, 1), 0), ((0, 1), 1), ((0, 1), 2), ((0, 1), 3), ((0, 1), 4), ((0, 1), 5), ((0, 1), 6), ((0, 1), 7), ((0, 2), 0), ((0, 2), 1), ((0, 2), 2), ((0, 2), 3), ((0, 2), 4), ((0, 2), 5), ((0, 2), 6), ((0, 2), 7), ((0, 3), 0), ((0, 3), 1), ((0, 3), 2), ((0, 3), 3), ((0, 3), 4), ((0, 3), 5), ((0, 3), 6), ((0, 3), 7), ((0, 4), 0), ((0, 4), 1), ((0, 4), 2), ((0, 4), 3), ((0, 4), 4), ((0, 4), 5), ((0, 4), 6), ((0, 4), 7), ((0, 5), 0), ((0, 5), 1), ((0, 5), 2), ((0, 5), 3), ((0, 5), 4), ((0, 5), 5), ((0, 5), 6), ((0, 5), 7), ((0, 6), 0), ((0, 6), 1), ((0, 6), 2), ((0, 6), 3), ((0, 6), 4), ((0, 6), 5), ((0, 6), 6), ((0, 6), 7), ((0, 7), 0), ((0, 7), 1), ((0, 7), 2), ((0, 7), 3), ((0, 7), 4), ((0, 7), 5), ((0, 7), 6), ((0, 7), 7), ((1, 0), 0), ((1, 0), 1), ((1, 0), 2), ((1, 0), 3), ((1, 0), 4), ((1, 0), 5), ((1, 0), 6), ((1, 0), 7), ((1, 1), 0), ((1, 1), 1), ((1, 1), 2), ((1, 1), 3), ((1, 1), 4), ((1, 1), 5), ((1, 1), 6), ((1, 1), 7), ((1, 2), 0), ((1, 2), 1), ((1, 2), 2), ((1, 2), 3), ((1, 2), 4), ((1, 2), 5), ((1, 2), 6), ((1, 2), 7), ((1, 3), 0), ((1, 3), 1), ((1, 3), 2), ((1, 3), 3), ((1, 3), 4), ((1, 3), 5), ((1, 3), 6), ((1, 3), 7), ((1, 4), 0), ((1, 4), 1), ((1, 4), 2), ((1, 4), 3), ((1, 4), 4), ((1, 4), 5), ((1, 4), 6), ((1, 4), 7), ((1, 5), 0), ((1, 5), 1), ((1, 5), 2), ((1, 5), 3), ((1, 5), 4), ((1, 5), 5), ((1, 5), 6), ((1, 5), 7), ((1, 6), 0), ((1, 6), 1), ((1, 6), 2), ((1, 6), 3), ((1, 6), 4), ((1, 6), 5), ((1, 6), 6), ((1, 6), 7), ((1, 7), 0), ((1, 7), 1), ((1, 7), 2), ((1, 7), 3), ((1, 7), 4), ((1, 7), 5), ((1, 7), 6), ((1, 7), 7), ((2, 0), 0), ((2, 0), 1), ((2, 0), 2), ((2, 0), 3), ((2, 0), 4), ((2, 0), 5), ((2, 0), 6), ((2, 0), 7), ((2, 1), 0), ((2, 1), 1), ((2, 1), 2), ((2, 1), 3), ((2, 1), 4), ((2, 1), 5), ((2, 1), 6), ((2, 1), 7), ((2, 2), 0), ((2, 2), 1), ((2, 2), 2), ((2, 2), 3), ((2, 2), 4), ((2, 2), 5), ((2, 2), 6), ((2, 2), 7), ((2, 3), 0), ((2, 3), 1), ((2, 3), 2), ((2, 3), 3), ((2, 3), 4), ((2, 3), 5), ((2, 3), 6), ((2, 3), 7), ((2, 4), 0), ((2, 4), 1), ((2, 4), 2), ((2, 4), 3), ((2, 4), 4), ((2, 4), 5), ((2, 4), 6), ((2, 4), 7), ((2, 5), 0), ((2, 5), 1), ((2, 5), 2), ((2, 5), 3), ((2, 5), 4), ((2, 5), 5), ((2, 5), 6), ((2, 5), 7), ((2, 6), 0), ((2, 6), 1), ((2, 6), 2), ((2, 6), 3), ((2, 6), 4), ((2, 6), 5), ((2, 6), 6), ((2, 6), 7), ((2, 7), 0), ((2, 7), 1), ((2, 7), 2), ((2, 7), 3), ((2, 7), 4), ((2, 7), 5), ((2, 7), 6), ((2, 7), 7), ((3, 0), 0), ((3, 0), 1), ((3, 0), 2), ((3, 0), 3), ((3, 0), 4), ((3, 0), 5), ((3, 0), 6), ((3, 0), 7), ((3, 1), 0), ((3, 1), 1), ((3, 1), 2), ((3, 1), 3), ((3, 1), 4), ((3, 1), 5), ((3, 1), 6), ((3, 1), 7), ((3, 2), 0), ((3, 2), 1), ((3, 2), 2), ((3, 2), 3), ((3, 2), 4), ((3, 2), 5), ((3, 2), 6), ((3, 2), 7), ((3, 3), 0), ((3, 3), 1), ((3, 3), 2), ((3, 3), 3), ((3, 3), 4), ((3, 3), 5), ((3, 3), 6), ((3, 3), 7), ((3, 4), 0), ((3, 4), 1), ((3, 4), 2), ((3, 4), 3), ((3, 4), 4), ((3, 4), 5), ((3, 4), 6), ((3, 4), 7), ((3, 5), 0), ((3, 5), 1), ((3, 5), 2), ((3, 5), 3), ((3, 5), 4), ((3, 5), 5), ((3, 5), 6), ((3, 5), 7), ((3, 6), 0), ((3, 6), 1), ((3, 6), 2), ((3, 6), 3), ((3, 6), 4), ((3, 6), 5), ((3, 6), 6), ((3, 6), 7), ((3, 7), 0), ((3, 7), 1), ((3, 7), 2), ((3, 7), 3), ((3, 7), 4), ((3, 7), 5), ((3, 7), 6), ((3, 7), 7), ((4, 0), 0), ((4, 0), 1), ((4, 0), 2), ((4, 0), 3), ((4, 0), 4), ((4, 0), 5), ((4, 0), 6), ((4, 0), 7), ((4, 1), 0), ((4, 1), 1), ((4, 1), 2), ((4, 1), 3), ((4, 1), 4), ((4, 1), 5), ((4, 1), 6), ((4, 1), 7), ((4, 2), 0), ((4, 2), 1), ((4, 2), 2), ((4, 2), 3), ((4, 2), 4), ((4, 2), 5), ((4, 2), 6), ((4, 2), 7), ((4, 3), 0), ((4, 3), 1), ((4, 3), 2), ((4, 3), 3), ((4, 3), 4), ((4, 3), 5), ((4, 3), 6), ((4, 3), 7), ((4, 4), 0), ((4, 4), 1), ((4, 4), 2), ((4, 4), 3), ((4, 4), 4), ((4, 4), 5), ((4, 4), 6), ((4, 4), 7), ((4, 5), 0), ((4, 5), 1), ((4, 5), 2), ((4, 5), 3), ((4, 5), 4), ((4, 5), 5), ((4, 5), 6), ((4, 5), 7), ((4, 6), 0), ((4, 6), 1), ((4, 6), 2), ((4, 6), 3), ((4, 6), 4), ((4, 6), 5), ((4, 6), 6), ((4, 6), 7), ((4, 7), 0), ((4, 7), 1), ((4, 7), 2), ((4, 7), 3), ((4, 7), 4), ((4, 7), 5), ((4, 7), 6), ((4, 7), 7), ((5, 0), 0), ((5, 0), 1), ((5, 0), 2), ((5, 0), 3), ((5, 0), 4), ((5, 0), 5), ((5, 0), 6), ((5, 0), 7), ((5, 1), 0), ((5, 1), 1), ((5, 1), 2), ((5, 1), 3), ((5, 1), 4), ((5, 1), 5), ((5, 1), 6), ((5, 1), 7), ((5, 2), 0), ((5, 2), 1), ((5, 2), 2), ((5, 2), 3), ((5, 2), 4), ((5, 2), 5), ((5, 2), 6), ((5, 2), 7), ((5, 3), 0), ((5, 3), 1), ((5, 3), 2), ((5, 3), 3), ((5, 3), 4), ((5, 3), 5), ((5, 3), 6), ((5, 3), 7), ((5, 4), 0), ((5, 4), 1), ((5, 4), 2), ((5, 4), 3), ((5, 4), 4), ((5, 4), 5), ((5, 4), 6), ((5, 4), 7), ((5, 5), 0), ((5, 5), 1), ((5, 5), 2), ((5, 5), 3), ((5, 5), 4), ((5, 5), 5), ((5, 5), 6), ((5, 5), 7), ((5, 6), 0), ((5, 6), 1), ((5, 6), 2), ((5, 6), 3), ((5, 6), 4), ((5, 6), 5), ((5, 6), 6), ((5, 6), 7), ((5, 7), 0), ((5, 7), 1), ((5, 7), 2), ((5, 7), 3), ((5, 7), 4), ((5, 7), 5), ((5, 7), 6), ((5, 7), 7), ((6, 0), 0), ((6, 0), 1), ((6, 0), 2), ((6, 0), 3), ((6, 0), 4), ((6, 0), 5), ((6, 0), 6), ((6, 0), 7), ((6, 1), 0), ((6, 1), 1), ((6, 1), 2), ((6, 1), 3), ((6, 1), 4), ((6, 1), 5), ((6, 1), 6), ((6, 1), 7), ((6, 2), 0), ((6, 2), 1), ((6, 2), 2), ((6, 2), 3), ((6, 2), 4), ((6, 2), 5), ((6, 2), 6), ((6, 2), 7), ((6, 3), 0), ((6, 3), 1), ((6, 3), 2), ((6, 3), 3), ((6, 3), 4), ((6, 3), 5), ((6, 3), 6), ((6, 3), 7), ((6, 4), 0), ((6, 4), 1), ((6, 4), 2), ((6, 4), 3), ((6, 4), 4), ((6, 4), 5), ((6, 4), 6), ((6, 4), 7), ((6, 5), 0), ((6, 5), 1), ((6, 5), 2), ((6, 5), 3), ((6, 5), 4), ((6, 5), 5), ((6, 5), 6), ((6, 5), 7), ((6, 6), 0), ((6, 6), 1), ((6, 6), 2), ((6, 6), 3), ((6, 6), 4), ((6, 6), 5), ((6, 6), 6), ((6, 6), 7), ((6, 7), 0), ((6, 7), 1), ((6, 7), 2), ((6, 7), 3), ((6, 7), 4), ((6, 7), 5), ((6, 7), 6), ((6, 7), 7), ((7, 0), 0), ((7, 0), 1), ((7, 0), 2), ((7, 0), 3), ((7, 0), 4), ((7, 0), 5), ((7, 0), 6), ((7, 0), 7), ((7, 1), 0), ((7, 1), 1), ((7, 1), 2), ((7, 1), 3), ((7, 1), 4), ((7, 1), 5), ((7, 1), 6), ((7, 1), 7), ((7, 2), 0), ((7, 2), 1), ((7, 2), 2), ((7, 2), 3), ((7, 2), 4), ((7, 2), 5), ((7, 2), 6), ((7, 2), 7), ((7, 3), 0), ((7, 3), 1), ((7, 3), 2), ((7, 3), 3), ((7, 3), 4), ((7, 3), 5), ((7, 3), 6), ((7, 3), 7), ((7, 4), 0), ((7, 4), 1), ((7, 4), 2), ((7, 4), 3), ((7, 4), 4), ((7, 4), 5), ((7, 4), 6), ((7, 4), 7), ((7, 5), 0), ((7, 5), 1), ((7, 5), 2), ((7, 5), 3), ((7, 5), 4), ((7, 5), 5), ((7, 5), 6), ((7, 5), 7), ((7, 6), 0), ((7, 6), 1), ((7, 6), 2), ((7, 6), 3), ((7, 6), 4), ((7, 6), 5), ((7, 6), 6), ((7, 6), 7), ((7, 7), 0), ((7, 7), 1), ((7, 7), 2), ((7, 7), 3), ((7, 7), 4), ((7, 7), 5), ((7, 7), 6), ((7, 7), 7)]\n"
     ]
    }
   ],
   "source": [
    "from itertools import product\n",
    "col = list(range(colours))\n",
    "print(col)\n",
    "print(places)\n",
    "a = col\n",
    "for _ in range(2):\n",
    "    a = list(product(a, col))\n",
    "    \n",
    "print(list(product(col,col)))\n",
    "print(a)"
   ]
  },
  {
   "cell_type": "code",
   "execution_count": null,
   "metadata": {},
   "outputs": [],
   "source": []
  }
 ],
 "metadata": {
  "kernelspec": {
   "display_name": "Python 3",
   "language": "python",
   "name": "python3"
  },
  "language_info": {
   "codemirror_mode": {
    "name": "ipython",
    "version": 3
   },
   "file_extension": ".py",
   "mimetype": "text/x-python",
   "name": "python",
   "nbconvert_exporter": "python",
   "pygments_lexer": "ipython3",
   "version": "3.7.2"
  }
 },
 "nbformat": 4,
 "nbformat_minor": 2
}
