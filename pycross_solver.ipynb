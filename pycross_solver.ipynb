{
 "cells": [
  {
   "cell_type": "code",
   "execution_count": 1,
   "metadata": {},
   "outputs": [],
   "source": [
    "import numpy as np\n",
    "import matplotlib.pyplot as plt\n",
    "%matplotlib inline\n",
    "import time\n",
    "import pylab as pl\n",
    "from IPython import display"
   ]
  },
  {
   "cell_type": "code",
   "execution_count": 2,
   "metadata": {},
   "outputs": [],
   "source": [
    "\n",
    "def min_space(l):\n",
    "    return sum(l) + len(l) -1\n",
    "\n",
    "def list_rc(info, res_len):\n",
    "    info_len = len(info)\n",
    "    if info_len == 1:\n",
    "        ones_len= info[0]\n",
    "        base = [1] * ones_len\n",
    "        return [ [0] * (res_len-ones_len-i) + base + [0] * i for i in range(res_len - ones_len +1)] \n",
    "    else:\n",
    "        res = [[]]\n",
    "        ones_len= info[0]\n",
    "        base = [1] * ones_len\n",
    "        res_space = min_space(info[1:])\n",
    "        n_spaces = res_len - res_space - ones_len - 1   \n",
    "        #print(n_spaces)\n",
    "        for i in range(n_spaces+1):\n",
    "            first = [0] * i + [1] * info[0] + [0]\n",
    "            #print(\"call\" + str( info[1:]) +str(res_space + n_spaces - i) )\n",
    "            second =  list_rc(info[1:], res_space + n_spaces - i)\n",
    "            res += [first + s  for s in second]\n",
    "        #print(res[1:])\n",
    "        return res[1:]\n",
    "        \n",
    "    "
   ]
  },
  {
   "cell_type": "code",
   "execution_count": 4,
   "metadata": {},
   "outputs": [
    {
     "data": {
      "text/plain": [
       "True"
      ]
     },
     "execution_count": 4,
     "metadata": {},
     "output_type": "execute_result"
    }
   ],
   "source": [
    "l = list_rc([1,3,5], 13)\n",
    "l == [[1, 0, 1, 1, 1, 0, 0, 0, 1, 1, 1, 1, 1],\n",
    " [1, 0, 1, 1, 1, 0, 0, 1, 1, 1, 1, 1, 0],\n",
    " [1, 0, 1, 1, 1, 0, 1, 1, 1, 1, 1, 0, 0],\n",
    " [1, 0, 0, 1, 1, 1, 0, 0, 1, 1, 1, 1, 1],\n",
    " [1, 0, 0, 1, 1, 1, 0, 1, 1, 1, 1, 1, 0],\n",
    " [1, 0, 0, 0, 1, 1, 1, 0, 1, 1, 1, 1, 1],\n",
    " [0, 1, 0, 1, 1, 1, 0, 0, 1, 1, 1, 1, 1],\n",
    " [0, 1, 0, 1, 1, 1, 0, 1, 1, 1, 1, 1, 0],\n",
    " [0, 1, 0, 0, 1, 1, 1, 0, 1, 1, 1, 1, 1],\n",
    " [0, 0, 1, 0, 1, 1, 1, 0, 1, 1, 1, 1, 1]]"
   ]
  },
  {
   "cell_type": "code",
   "execution_count": 6,
   "metadata": {},
   "outputs": [],
   "source": [
    "No_clue = 2\n",
    "\n",
    "def find_elt(l_poss):\n",
    "    temp = [1] * len(l_poss[0])\n",
    "    for l in l_poss:\n",
    "        temp = [a&b for a, b in zip(l, temp)]\n",
    "    return  [No_clue if t==0 else 1 for t in temp]\n",
    "\n",
    "def find_zero(l_poss):\n",
    "    temp = [1] * len(l_poss[0])\n",
    "    for l in l_poss:\n",
    "        temp = [a|b for a, b in zip(l, temp)]\n",
    "    return [No_clue if t==1 else 0 for t in temp]\n",
    "\n",
    "def find_mandatory(l_poss):\n",
    "    if len(l_poss) > 0:\n",
    "        temp = l_poss[0]\n",
    "    else:\n",
    "        print(\"Aie\" + str(l_poss))\n",
    "        raise\n",
    "    for l in l_poss[1:]:\n",
    "        temp = [2 if a != b else a for a, b in zip(l, temp)]\n",
    "    return temp\n",
    "\n",
    "def verif_poss(l_initial, l):\n",
    "    for elt_initial, elt in zip(l_initial, l):\n",
    "       \n",
    "        if elt_initial == No_clue:\n",
    "            continue\n",
    "        if elt_initial != elt:\n",
    "            #print(elt_initial,elt)\n",
    "            return False\n",
    "    return True\n",
    "        \n",
    "def upd_l_poss(l_initial, elt_poss):\n",
    "    # reducupd_l_posse list to possibilities\n",
    "    temp = []\n",
    "    for l in elt_poss:\n",
    "        if verif_poss(l_initial, l):\n",
    "            temp.append(l)\n",
    "    return temp\n",
    "            \n",
    "def mix_elt(l_initial, l):\n",
    "    res = []\n",
    "    for elt_initial, elt in zip(l_initial, l):\n",
    "        if elt == 1:\n",
    "            if elt_initial != No_clue:\n",
    "                raise Error \n",
    "            res.append(1)\n",
    "        else:\n",
    "            res.append(l_initial)\n",
    "    return res   \n",
    "\n",
    "def update_rc(l_initial, l_poss):\n",
    "    res = []\n",
    "    for elt_initial, elt in zip(l_initial, l_poss):\n",
    "        if elt_initial == No_clue:\n",
    "            res.append(elt)\n",
    "        else:\n",
    "            if elt != elt_initial and elt !=  No_clue:\n",
    "                print(elt, elt_initial)\n",
    "                raise \n",
    "            else:\n",
    "                res.append(elt_initial)\n",
    "    return res\n",
    "\n",
    "def all_update(l_initial, info, res_len):\n",
    "    # first get possible list\n",
    "    possible_list = list_rc(info, res_len)\n",
    "    # update possible by previsouly found elts\n",
    "    possible_list = upd_l_poss(l_initial, possible_list)\n",
    "    # now get mandatory zeros and ones\n",
    "    if len(possible_list) == 0:\n",
    "        print(l_initial, info, res_len)\n",
    "        raise\n",
    "    mand = find_mandatory(possible_list)\n",
    "    l_res = update_rc(l_initial, mand)\n",
    "    return l_res\n",
    "    "
   ]
  },
  {
   "cell_type": "code",
   "execution_count": 7,
   "metadata": {},
   "outputs": [
    {
     "data": {
      "text/plain": [
       "[0, 1, 0]"
      ]
     },
     "execution_count": 7,
     "metadata": {},
     "output_type": "execute_result"
    }
   ],
   "source": [
    "l_i = [2, 1, 2]\n",
    "p = [1]\n",
    "col_len = 3\n",
    "a = list_rc(p, col_len)\n",
    "b = upd_l_poss(l_i,a)\n",
    "find_mandatory(b)"
   ]
  },
  {
   "cell_type": "code",
   "execution_count": 8,
   "metadata": {},
   "outputs": [
    {
     "data": {
      "image/png": "[encoded data removed]",
      "text/plain": [
       "<Figure size 432x288 with 1 Axes>"
      ]
     },
     "metadata": {
      "needs_background": "light"
     },
     "output_type": "display_data"
    }
   ],
   "source": [
    "\n",
    "for i in range(1):\n",
    "    pl.clf()\n",
    "    pl.plot(pl.randn(100))\n",
    "    display.display(pl.gcf())\n",
    "    display.clear_output(wait=True)\n",
    "    time.sleep(0.1)"
   ]
  },
  {
   "cell_type": "code",
   "execution_count": 9,
   "metadata": {},
   "outputs": [
    {
     "data": {
      "text/plain": [
       "[[2, 5, 1], [10]]"
      ]
     },
     "execution_count": 9,
     "metadata": {},
     "output_type": "execute_result"
    }
   ],
   "source": [
    "p_txt = \"123,34,34,35\"\n",
    "\n",
    "def escape_line(line):\n",
    "    res = []\n",
    "    i = 0\n",
    "    while i < len(line):\n",
    "        if line[i] != 'd':\n",
    "            res.append(int(line[i]))\n",
    "            i += 1\n",
    "        else:\n",
    "            j = 1\n",
    "            while line[i+j] != 'd':\n",
    "                j += 1              \n",
    "            res.append(int(line[i+1:i+j]))\n",
    "            i = i + j + 1\n",
    "    return res\n",
    "\n",
    "def pi_txt_to_array(p_txt):\n",
    "    temp = p_txt.replace(\" \",\"\").split(\",\")             \n",
    "    return [escape_line(t) for t in temp]\n",
    "\n",
    "pi_txt_to_array(\"251,d10d\")\n",
    "#escape_line(\"24d31d45\")"
   ]
  },
  {
   "cell_type": "code",
   "execution_count": 10,
   "metadata": {},
   "outputs": [],
   "source": [
    "problem = []\n",
    "problem.append(pi_txt_to_array(\"2121,334,1251,1311,233, 4211,223,211,33,242, 231,212,15,1322,241, 12,24,231,321,62\"))\n",
    "problem.append(pi_txt_to_array(\"4,225,3133,2122,1212,231,21112,221111,421211,1141121,113321,2131312,11111111,13111111,4332\"))"
   ]
  },
  {
   "cell_type": "code",
   "execution_count": 11,
   "metadata": {},
   "outputs": [],
   "source": [
    "problem = []\n",
    "problem.append(pi_txt_to_array(\"251,d11d1,731,3521,41231, 4321,5322,5322,37,24, 38,287,1832,4332,531, 651,351,381,d10d1,41\"))\n",
    "problem.append(pi_txt_to_array(\"44,d11d5,d11d7,358,32322, 41423,4513,753,2554,3334, 5125,517,46,33,11, 11,11,11,33,99\" ))"
   ]
  },
  {
   "cell_type": "code",
   "execution_count": 12,
   "metadata": {},
   "outputs": [],
   "source": [
    "problem = []\n",
    "problem.append(pi_txt_to_array(\"12,221,22,121,11211,3211,411,22,221,12\"))\n",
    "problem.append(pi_txt_to_array(\"4,13,d10d,1111,121,121,111,121,11,8\" ))"
   ]
  },
  {
   "cell_type": "code",
   "execution_count": null,
   "metadata": {},
   "outputs": [],
   "source": [
    "#problem = [[[1,1],[8],[3,1],[4,2,1],[7,2,1],[1,4,2,1],[4,1],[1,2,4],[2,1,4],[3,2,1],[4,1,2,1],[1,1,2,2,1],[1,1,1,1],[8],[1,1,1]],\n",
    " #          [[1],[2],[1],[2,2],[1,2],[9],[5,1,1,1],[7,1,1,1],[15],[1,1],[1,3,2,1],[1,3,2,2,1],[1,2,1],[1,2,1],[15]]]  \n",
    "col_len = len(problem[0])\n",
    "row_len = len(problem[1])\n",
    "solution = np.array([[No_clue] * col_len] * row_len)\n",
    "#print(solution.shape)\n",
    "#print(np.array(solution))\n",
    "#print(np.array(solution).T)\n",
    "#loop on columns\n",
    "np.count_nonzero(solution == No_clue)\n",
    "\n",
    "j = 0\n",
    "progress = []\n",
    "while No_clue in solution:\n",
    "    for i,p in enumerate(problem[0]):\n",
    "        solution.T[i] = all_update(solution.T[i],p, row_len )\n",
    "    #pl.clf()\n",
    "    #pl.imshow(solution)\n",
    "    #display.display(pl.gcf())\n",
    "    #display.clear_output(wait=True)\n",
    "    #time.sleep(1)\n",
    "    #input()\n",
    "    for i,p in enumerate(problem[1]):\n",
    "        solution[i] = all_update(solution[i], p, col_len )\n",
    "    #print(\"Loop \" + str(j) + \": \" + \"{0:.1f}\".format(np.count_nonzero(solution == 2)/col_len/row_len * 100) + \" %\")\n",
    "    #print(solution)\n",
    "    progress.append(\"{0:.1f}\".format(np.count_nonzero(solution == No_clue)/col_len/row_len * 100))\n",
    "    j += 1dd\n",
    "    pl.clf()\n",
    "    pl.imshow(solution)\n",
    "    display.display(pl.gcf())\n",
    "    display.clear_output(wait=True)\n",
    "    time.sleep(1)\n",
    "\n",
    "#plt.imshow(solution)    \n",
    "print(j, progress)"
   ]
  },
  {
   "cell_type": "code",
   "execution_count": 13,
   "metadata": {},
   "outputs": [
    {
     "name": "stdout",
     "output_type": "stream",
     "text": [
      "[1, 1, 1]\n",
      "3\n"
     ]
    },
    {
     "data": {
      "text/plain": [
       "[[1, 1, 1, 0, 0, 0, 0, 1, 1, 1, 1, 1],\n",
       " [1, 1, 1, 0, 0, 0, 1, 1, 1, 1, 1, 0],\n",
       " [1, 1, 1, 0, 0, 1, 1, 1, 1, 1, 0, 0],\n",
       " [1, 1, 1, 0, 1, 1, 1, 1, 1, 0, 0, 0],\n",
       " [0, 1, 1, 1, 0, 0, 0, 1, 1, 1, 1, 1],\n",
       " [0, 1, 1, 1, 0, 0, 1, 1, 1, 1, 1, 0],\n",
       " [0, 1, 1, 1, 0, 1, 1, 1, 1, 1, 0, 0],\n",
       " [1, 1, 1, 0, 0, 0, 0, 1, 1, 1, 1, 1],\n",
       " [1, 1, 1, 0, 0, 0, 1, 1, 1, 1, 1, 0],\n",
       " [1, 1, 1, 0, 0, 1, 1, 1, 1, 1, 0, 0],\n",
       " [0, 0, 1, 1, 1, 0, 0, 1, 1, 1, 1, 1],\n",
       " [0, 0, 1, 1, 1, 0, 1, 1, 1, 1, 1, 0],\n",
       " [0, 1, 1, 1, 0, 0, 0, 1, 1, 1, 1, 1],\n",
       " [0, 1, 1, 1, 0, 0, 1, 1, 1, 1, 1, 0],\n",
       " [1, 1, 1, 0, 0, 0, 0, 1, 1, 1, 1, 1],\n",
       " [1, 1, 1, 0, 0, 0, 1, 1, 1, 1, 1, 0]]"
      ]
     },
     "execution_count": 13,
     "metadata": {},
     "output_type": "execute_result"
    }
   ],
   "source": [
    "info = [3,5]\n",
    "\n",
    "\n",
    "res_len = 12\n",
    "ones_len= info[0]\n",
    "base = [1] * ones_len\n",
    "print(base)\n",
    "res_space = min_space(info[1:])\n",
    "n_spaces = res_len - res_space - ones_len - 1\n",
    "print(n_spaces)\n",
    "i = 3\n",
    "[base + [0] + res for res in list_rc(info[1:], res_space + n_spaces)]\n",
    "[[0]*i + base + [0]*(n_spaces-i) + res for res in list_rc(info[1:], res_space + n_spaces-i)]\n",
    "res = [[]]\n",
    "for i in range(n_spaces):\n",
    "    first = list_rc([info[0]], i + info[0])\n",
    "    second =  list_rc(info[1:], res_space + n_spaces - i)\n",
    "    res += [f + [0] + s for f in first for s in second]\n",
    "return res[1:]"
   ]
  },
  {
   "cell_type": "code",
   "execution_count": 317,
   "metadata": {},
   "outputs": [
    {
     "data": {
      "text/plain": [
       "[[1, 2], [2, 3], [2, 3]]"
      ]
     },
     "execution_count": 317,
     "metadata": {},
     "output_type": "execute_result"
    }
   ],
   "source": [
    "l = [[1,2], [2,3]]\n",
    "ll =[ [2,3]]\n",
    "l + ll"
   ]
  },
  {
   "cell_type": "code",
   "execution_count": null,
   "metadata": {},
   "outputs": [],
   "source": []
  }
 ],
 "metadata": {
  "kernelspec": {
   "display_name": "Python 3",
   "language": "python",
   "name": "python3"
  },
  "language_info": {
   "codemirror_mode": {
    "name": "ipython",
    "version": 3
   },
   "file_extension": ".py",
   "mimetype": "text/x-python",
   "name": "python",
   "nbconvert_exporter": "python",
   "pygments_lexer": "ipython3",
   "version": "3.7.2"
  }
 },
 "nbformat": 4,
 "nbformat_minor": 2
}
