{
 "cells": [
  {
   "cell_type": "code",
   "execution_count": 783,
   "metadata": {},
   "outputs": [
    {
     "name": "stdout",
     "output_type": "stream",
     "text": [
      "The line_profiler extension is already loaded. To reload it, use:\n",
      "  %reload_ext line_profiler\n"
     ]
    }
   ],
   "source": [
    "import numpy as np\n",
    "import numpy.ma as ma\n",
    "import matplotlib.pyplot as plt\n",
    "import random\n",
    "from itertools import product\n",
    "import itertools\n",
    "from collections import Counter\n",
    "from functools import reduce\n",
    "%load_ext line_profiler"
   ]
  },
  {
   "cell_type": "code",
   "execution_count": 11,
   "metadata": {},
   "outputs": [],
   "source": [
    "colours = 8\n",
    "places = 5\n",
    "init_set = list(product(list(range(colours)),repeat = places))"
   ]
  },
  {
   "cell_type": "code",
   "execution_count": 1060,
   "metadata": {},
   "outputs": [],
   "source": [
    "# helper functions\n",
    "\n",
    "#returns the zero colours from a set list\n",
    "def zero_colors(colour_list, set_list):\n",
    "    res = []\n",
    "    for col in colour_list:\n",
    "        if col not in set_list:\n",
    "            res.append(col)\n",
    "    return res\n",
    "\n",
    "def init_set(colour_list, places):\n",
    "    return  np.array(list(product(colour_list, repeat = places)))\n",
    "\n",
    "def set_aft_resp(guess, response, set_list):\n",
    "    responses = resp_list(guess, set_list)\n",
    "    #expected result\n",
    "    xptd_rep = np.repeat([response], len(responses), axis=0)\n",
    "    # test equality, sum on axis, if == 2 exactcly the same then gets the arguments\n",
    "    equality = (responses == xptd_rep)\n",
    "    s = np.sum(equality, axis=1) \n",
    "    args = (s == 2)\n",
    "    return set_list[args]\n",
    "\n",
    "def response(code, guess):\n",
    "    black = white = 0\n",
    "    code_t = list(code)\n",
    "    guess_t = list(guess)\n",
    "    for i in range(len(code)):\n",
    "        if code_t[i] == guess_t[i]:\n",
    "            black += 1\n",
    "            code_t[i] = -1\n",
    "            guess_t[i] = -1\n",
    "    for i in range(len(code)):\n",
    "        if guess_t[i] != -1:\n",
    "            if guess_t[i] in code_t:\n",
    "                code_t[code_t.index(guess_t[i])] = -1\n",
    "                white += 1\n",
    "    return (black, white)\n",
    "\n",
    "    \n",
    "def entropy(guess, code_set):\n",
    "    results = resp_list(guess, code_set)\n",
    "    distrib = np.array(list(Counter(results).values()))\n",
    "    disp= distrib/sum(distrib)\n",
    "    return -sum(np.log(disp)*disp)\n",
    "\n",
    "# returns a try set with duplicate on free colors removed\n",
    "def free_set(free_colors, set_list):\n",
    "    if len(free_colors) <= 1:\n",
    "        return set_list\n",
    "    else:\n",
    "        res_list = []\n",
    "        for g in set_list: \n",
    "            g_res = []\n",
    "            hash_res = {}\n",
    "            nb_fc = 0\n",
    "            for c in g:               \n",
    "                if c in free_colors:\n",
    "                    if c not in hash_res.keys():\n",
    "                        nb_fc += 1\n",
    "                        hash_res[c] = - nb_fc\n",
    "                    g_res.append(hash_res[c])\n",
    "                    \n",
    "                else:\n",
    "                    g_res.append(c)\n",
    "            res_list.append(str(g_res).strip('[]'))\n",
    "    #print(\"reslist:\", res_list[:20])\n",
    "    # keep unique values\n",
    "    res_set = set(res_list)\n",
    "    # str to list \n",
    "    res_arr = np.array([[int(e) for e in s.split(',')] for s in res_set])\n",
    "    print(\"res_arr:\", res_arr[:20])\n",
    "    for i, col in enumerate(free_colors):\n",
    "        print(\"set \", i, \" with \", col)\n",
    "        res_arr[res_arr == -(i+1)] = col\n",
    "    return res_arr\n",
    "                "
   ]
  },
  {
   "cell_type": "code",
   "execution_count": 999,
   "metadata": {},
   "outputs": [
    {
     "data": {
      "text/plain": [
       "[(2, 0)]"
      ]
     },
     "execution_count": 999,
     "metadata": {},
     "output_type": "execute_result"
    }
   ],
   "source": [
    "def first_true(arr, axis, invalid_val=-1):\n",
    "    mask = arr==True\n",
    "    return np.where(mask.any(axis=axis), mask.argmax(axis=axis), invalid_val)\n",
    "\n",
    "def resp_list(guess, code_set):\n",
    "    sets = code_set# np.array\n",
    "    codes = np.repeat([guess], len(code_set), axis = 0)\n",
    "    eq = np.equal(codes,sets)\n",
    "    eq2 = np.copy(eq)\n",
    "    blacks = eq.sum(axis=1) \n",
    "\n",
    "    codes_ma = ma.array(codes, mask = eq)\n",
    "    codes_wh = codes_ma.T\n",
    "    sets_ma = ma.array(sets, mask = eq2)\n",
    "    whites = np.zeros(len(codes.T[0]), int)\n",
    "   # print(sets_ma)\n",
    "   # print(codes_ma)\n",
    "    for i in range(len(codes_wh.T[0])):\n",
    "        #print(\"Test %d columns %s\" %(i,sets[:,i]))\n",
    "        #print(\"sets\", sets)\n",
    "        columns = ma.repeat([sets_ma[:,i]], sets.shape[1], axis = 0)\n",
    "        res = np.equal(columns, codes_wh)\n",
    "        su = res.sum(axis = 0)\n",
    "        #print(\"res   \\n\", res.T)\n",
    "        bo = su > 0\n",
    "        whites = whites + np.array(bo).astype(int)\n",
    "       # print(\"whites\", whites)\n",
    "        ft = first_true(res,0)\n",
    "        #print(\"ft\", ft)\n",
    "        #print(\"codes\\n\", codes)\n",
    "        arg_ok = np.argwhere(np.array(ft) != -1)[:,0]\n",
    "        ft_idx = tuple([np.array(ft)[arg_ok], arg_ok]) \n",
    "        codes_wh[ft_idx] = ma.masked\n",
    "        #for j in range(len(res.T)):\n",
    "        #    if ft[j] != -1:\n",
    "        #        codes_wh[ft[j],j] = ma.masked\n",
    "        #print(\"codes\\n\", codes)\n",
    "    return list(zip(blacks, whites))\n",
    "\n",
    "resp_list(to_l(\"01230\"), np.array([wrong_try]))"
   ]
  },
  {
   "cell_type": "code",
   "execution_count": 954,
   "metadata": {},
   "outputs": [],
   "source": [
    "class Game:\n",
    "    def __init__(self, places=5, colors=8, code = \"\"):\n",
    "        self.places = places\n",
    "        self.colors = colors\n",
    "        self.guess_list = list()\n",
    "        self.resp_list = list()\n",
    "        self.set_list = list()\n",
    "        self.free_colors = list(range(colors))\n",
    "        init_set = np.array(list(product(list(range(colors)), repeat = places)))\n",
    "        self.set_list.append(init_set)\n",
    "        self.cur_move = 0\n",
    "        if code == \"\":\n",
    "            self.code = [random.randint(0,colors-1) for _ in range(places)]\n",
    "        else: \n",
    "            self.code = code\n",
    "        print(\"Code : \", self.code)\n",
    "        self.play_function = lambda x: [0,0,0,0,0]\n",
    "    \n",
    "    def get_free_colors(self, move):\n",
    "        merge_l = list(itertools.chain.from_iterable(g.guess_list[:(g.cur_move)])) \n",
    "        self.free_colors = [col for col in list(range(self.colors)) if col not in merge_l]\n",
    "        return self.free_colors\n",
    "    \n",
    "    def back(self):\n",
    "        self.guess_list.pop()\n",
    "        self.resp_list.pop()\n",
    "        self.set_list.pop()\n",
    "        self.cur_move -= 1   \n",
    "    \n",
    "    def print_tries(self):\n",
    "        for i in range(self.cur_move):\n",
    "            print(\"Played \", self.guess_list[i], \"with response \", self.resp_list[i], len(self.set_list[i]), \" left\")\n",
    "       \n",
    "    def play(self, guess): \n",
    "        resp = response(self.code, guess)\n",
    "        self.guess_list.append(guess)\n",
    "        self.resp_list.append(resp)\n",
    "        self.set_list.append(set_aft_resp(guess, resp, self.set_list[self.cur_move]))\n",
    "        self.cur_move += 1\n",
    "        return(resp)\n",
    "    \n",
    "    def automatic_play(self, play_function):\n",
    "        while True or self.cur_move < 15:\n",
    "            gu = self.play_function(self)\n",
    "            resp = response(self.code, gu)\n",
    "            self.play(gu)\n",
    "            print(\"Try %d: played %s, response %s, %d possiblities left\" %(self.cur_move, gu, resp, \n",
    "                                                         self.set_list[self.cur_move].cardinal )) \n",
    "            if resp == (self.places,0):\n",
    "                return self.cur_move"
   ]
  },
  {
   "cell_type": "code",
   "execution_count": 1031,
   "metadata": {},
   "outputs": [],
   "source": [
    "def reduce_set(g, move = -1):\n",
    "    if move == -1:\n",
    "        move = g.cur_move\n",
    "    # first remove zero colours\n",
    "    zc = zero_colors(list(range(g.colors)), g.set_list[g.cur_move])\n",
    "    col_wo_zc = [col for col in list(range(g.colors)) if col not in zc]\n",
    "    print(\"wo zero colours: \", col_wo_zc)\n",
    "    wo_zc = init_set(col_wo_zc, g.places)\n",
    "    print(\"init set len\", len(wo_zc))\n",
    "    print(\"first 20\", wo_zc[:20])\n",
    "    # then remove duplicate with free colours\n",
    "    fc = g.get_free_colors(g.cur_move)\n",
    "    print(\"free colours\", fc)\n",
    "    rdc_set = free_set(fc, wo_zc)\n",
    "    return rdc_set\n",
    "    \n",
    "def init_set(colour_list):\n",
    "    return  np.array(list(product(colour_list, repeat = places)))\n"
   ]
  },
  {
   "cell_type": "code",
   "execution_count": 956,
   "metadata": {},
   "outputs": [
    {
     "data": {
      "text/plain": [
       "[0, 0, 1, 2, 3]"
      ]
     },
     "execution_count": 956,
     "metadata": {},
     "output_type": "execute_result"
    }
   ],
   "source": [
    "g.guess_list\n",
    "[col for col in list(range(g.colors)) if col not in g.guess_list[:(g.cur_move+1)]]\n",
    "list(itertools.chain.from_iterable(g.guess_list[:(g.cur_move)]))"
   ]
  },
  {
   "cell_type": "code",
   "execution_count": 983,
   "metadata": {},
   "outputs": [
    {
     "name": "stdout",
     "output_type": "stream",
     "text": [
      "203 ms ± 5.94 ms per loop (mean ± std. dev. of 7 runs, 10 loops each)\n",
      "18.8 ms ± 413 µs per loop (mean ± std. dev. of 7 runs, 100 loops each)\n"
     ]
    }
   ],
   "source": [
    "%timeit resp_list_long(to_l(\"01230\"), init_set_ar)\n",
    "%timeit resp_list(to_l(\"01230\"), init_set_ar)"
   ]
  },
  {
   "cell_type": "code",
   "execution_count": 987,
   "metadata": {},
   "outputs": [
    {
     "data": {
      "text/plain": [
       "array([[0, 0, 0, 0, 0],\n",
       "       [0, 0, 0, 0, 1],\n",
       "       [0, 0, 0, 0, 2],\n",
       "       ...,\n",
       "       [7, 7, 7, 7, 5],\n",
       "       [7, 7, 7, 7, 6],\n",
       "       [7, 7, 7, 7, 7]])"
      ]
     },
     "execution_count": 987,
     "metadata": {},
     "output_type": "execute_result"
    }
   ],
   "source": [
    "init_set_ar"
   ]
  },
  {
   "cell_type": "code",
   "execution_count": 990,
   "metadata": {},
   "outputs": [
    {
     "data": {
      "text/plain": [
       "array([[0, 1, 1, 1, 1]])"
      ]
     },
     "execution_count": 990,
     "metadata": {},
     "output_type": "execute_result"
    }
   ],
   "source": [
    "np.array([wrong_try])"
   ]
  },
  {
   "cell_type": "code",
   "execution_count": 991,
   "metadata": {},
   "outputs": [
    {
     "data": {
      "text/plain": [
       "[(2, 1)]"
      ]
     },
     "execution_count": 991,
     "metadata": {},
     "output_type": "execute_result"
    }
   ],
   "source": [
    "resp_list(to_l(\"01230\"), np.array([wrong_try]))"
   ]
  },
  {
   "cell_type": "code",
   "execution_count": 1000,
   "metadata": {},
   "outputs": [
    {
     "name": "stdout",
     "output_type": "stream",
     "text": [
      "0\n"
     ]
    },
    {
     "ename": "IndexError",
     "evalue": "list index out of range",
     "output_type": "error",
     "traceback": [
      "\u001b[1;31m---------------------------------------------------------------------------\u001b[0m",
      "\u001b[1;31mIndexError\u001b[0m                                Traceback (most recent call last)",
      "\u001b[1;32m<ipython-input-1000-7023b1013db7>\u001b[0m in \u001b[0;36m<module>\u001b[1;34m\u001b[0m\n\u001b[0;32m      4\u001b[0m \u001b[0mdiff_only\u001b[0m \u001b[1;33m=\u001b[0m \u001b[1;33m[\u001b[0m\u001b[0mc\u001b[0m \u001b[1;32mfor\u001b[0m \u001b[0mc\u001b[0m \u001b[1;32min\u001b[0m \u001b[0mcomp\u001b[0m \u001b[1;32mif\u001b[0m \u001b[0mc\u001b[0m\u001b[1;33m[\u001b[0m\u001b[1;36m1\u001b[0m\u001b[1;33m]\u001b[0m \u001b[1;33m!=\u001b[0m \u001b[0mc\u001b[0m\u001b[1;33m[\u001b[0m\u001b[1;36m2\u001b[0m\u001b[1;33m]\u001b[0m\u001b[1;33m]\u001b[0m\u001b[1;33m\u001b[0m\u001b[1;33m\u001b[0m\u001b[0m\n\u001b[0;32m      5\u001b[0m \u001b[0mprint\u001b[0m\u001b[1;33m(\u001b[0m\u001b[0mlen\u001b[0m\u001b[1;33m(\u001b[0m\u001b[0mdiff_only\u001b[0m\u001b[1;33m)\u001b[0m\u001b[1;33m)\u001b[0m\u001b[1;33m\u001b[0m\u001b[1;33m\u001b[0m\u001b[0m\n\u001b[1;32m----> 6\u001b[1;33m \u001b[0mwrong_try\u001b[0m \u001b[1;33m=\u001b[0m \u001b[0mdiff_only\u001b[0m\u001b[1;33m[\u001b[0m\u001b[1;36m0\u001b[0m\u001b[1;33m]\u001b[0m\u001b[1;33m[\u001b[0m\u001b[1;36m0\u001b[0m\u001b[1;33m]\u001b[0m\u001b[1;33m\u001b[0m\u001b[1;33m\u001b[0m\u001b[0m\n\u001b[0m",
      "\u001b[1;31mIndexError\u001b[0m: list index out of range"
     ]
    }
   ],
   "source": [
    "def resp_list_long(guess, set_list):\n",
    "    return [response(s, guess) for s in set_list]\n",
    "comp = list(zip(init_set_ar,resp_list_long(to_l(\"01230\"), init_set_ar), list(resp_list(to_l(\"01230\"), init_set_ar))))\n"
   ]
  },
  {
   "cell_type": "code",
   "execution_count": 1052,
   "metadata": {},
   "outputs": [
    {
     "name": "stdout",
     "output_type": "stream",
     "text": [
      "Code :  [0, 1, 2, 3, 4]\n",
      "Response(4, 0)\n",
      "wo zero colours:  [0, 1, 2, 3, 4, 5, 6, 7]\n",
      "init set len 32768\n",
      "first 20 [[0 0 0 0 0]\n",
      " [0 0 0 0 1]\n",
      " [0 0 0 0 2]\n",
      " [0 0 0 0 3]\n",
      " [0 0 0 0 4]\n",
      " [0 0 0 0 5]\n",
      " [0 0 0 0 6]\n",
      " [0 0 0 0 7]\n",
      " [0 0 0 1 0]\n",
      " [0 0 0 1 1]\n",
      " [0 0 0 1 2]\n",
      " [0 0 0 1 3]\n",
      " [0 0 0 1 4]\n",
      " [0 0 0 1 5]\n",
      " [0 0 0 1 6]\n",
      " [0 0 0 1 7]\n",
      " [0 0 0 2 0]\n",
      " [0 0 0 2 1]\n",
      " [0 0 0 2 2]\n",
      " [0 0 0 2 3]]\n",
      "free colours [4, 5, 6, 7]\n",
      "set  0  with  4\n",
      "set  1  with  5\n",
      "set  2  with  6\n",
      "set  3  with  7\n",
      "reduced to  4735\n",
      "[[5 2 6 1 4]\n",
      " [5 6 5 5 5]\n",
      " [2 4 3 3 5]\n",
      " ...\n",
      " [4 1 3 1 1]\n",
      " [2 4 3 3 2]\n",
      " [3 2 3 4 4]]\n",
      "[[5 6 1 3 2]\n",
      " [5 3 2 4 1]\n",
      " [1 2 4 3 5]\n",
      " [2 1 3 5 6]\n",
      " [2 5 1 3 4]\n",
      " [3 4 2 1 5]\n",
      " [2 1 3 5 4]\n",
      " [5 4 1 3 2]\n",
      " [3 5 2 1 4]\n",
      " [1 3 2 5 4]\n",
      " [5 1 6 2 3]\n",
      " [2 1 3 4 5]\n",
      " [2 5 1 3 6]\n",
      " [5 6 2 1 3]\n",
      " [5 1 4 2 3]\n",
      " [4 1 5 2 3]\n",
      " [4 5 2 1 3]\n",
      " [4 5 1 3 2]\n",
      " [5 2 6 3 1]\n",
      " [5 2 4 3 1]\n",
      " [1 3 2 4 5]\n",
      " [1 3 2 5 6]\n",
      " [5 3 2 6 1]\n",
      " [4 2 5 3 1]\n",
      " [3 1 5 2 4]\n",
      " [4 1 3 5 2]\n",
      " [3 5 2 1 6]\n",
      " [3 1 5 2 6]\n",
      " [1 2 5 3 6]\n",
      " [4 3 2 5 1]\n",
      " [5 1 3 6 2]\n",
      " [5 1 3 4 2]\n",
      " [3 1 4 2 5]\n",
      " [1 2 5 3 4]\n",
      " [2 4 1 3 5]\n",
      " [5 4 2 1 3]]\n",
      "13\n"
     ]
    },
    {
     "data": {
      "text/plain": [
       "array([5, 1, 3, 6, 2])"
      ]
     },
     "execution_count": 1052,
     "metadata": {},
     "output_type": "execute_result"
    }
   ],
   "source": [
    "g = Game(code=to_l(\"01234\"))\n",
    "print(\"Response\" + str(g.play(to_l(\"01230\"))))\n",
    "len(g.set_list[-1])\n",
    "try_set = reduce_set(g)\n",
    "print(\"reduced to \", len(try_set))\n",
    "print(try_set)\n",
    "play_random(g, try_set)"
   ]
  },
  {
   "cell_type": "code",
   "execution_count": 1053,
   "metadata": {},
   "outputs": [
    {
     "data": {
      "text/plain": [
       "(1, 3)"
      ]
     },
     "execution_count": 1053,
     "metadata": {},
     "output_type": "execute_result"
    }
   ],
   "source": [
    "g.play(to_l(\"34215\"))"
   ]
  },
  {
   "cell_type": "code",
   "execution_count": 1054,
   "metadata": {},
   "outputs": [
    {
     "name": "stdout",
     "output_type": "stream",
     "text": [
      "[[0, 1, 2, 3, 0], [3, 4, 2, 1, 5]]\n",
      "[(4, 0), (1, 3)]\n",
      "3\n"
     ]
    }
   ],
   "source": [
    "print(g.guess_list)\n",
    "print(g.resp_list)\n",
    "print(len(g.set_list[-1]))"
   ]
  },
  {
   "cell_type": "code",
   "execution_count": 1055,
   "metadata": {},
   "outputs": [
    {
     "data": {
      "text/plain": [
       "array([[0, 1, 2, 3, 4],\n",
       "       [4, 1, 2, 3, 0],\n",
       "       [5, 1, 2, 3, 0]])"
      ]
     },
     "execution_count": 1055,
     "metadata": {},
     "output_type": "execute_result"
    }
   ],
   "source": [
    "g.set_list[-1]"
   ]
  },
  {
   "cell_type": "code",
   "execution_count": 1056,
   "metadata": {},
   "outputs": [
    {
     "data": {
      "text/plain": [
       "2"
      ]
     },
     "execution_count": 1056,
     "metadata": {},
     "output_type": "execute_result"
    }
   ],
   "source": [
    "g.cur_move"
   ]
  },
  {
   "cell_type": "code",
   "execution_count": 1061,
   "metadata": {},
   "outputs": [
    {
     "name": "stdout",
     "output_type": "stream",
     "text": [
      "wo zero colours:  [0, 1, 2, 3, 4, 5]\n",
      "init set len 7776\n",
      "first 20 [[0 0 0 0 0]\n",
      " [0 0 0 0 1]\n",
      " [0 0 0 0 2]\n",
      " [0 0 0 0 3]\n",
      " [0 0 0 0 4]\n",
      " [0 0 0 0 5]\n",
      " [0 0 0 1 0]\n",
      " [0 0 0 1 1]\n",
      " [0 0 0 1 2]\n",
      " [0 0 0 1 3]\n",
      " [0 0 0 1 4]\n",
      " [0 0 0 1 5]\n",
      " [0 0 0 2 0]\n",
      " [0 0 0 2 1]\n",
      " [0 0 0 2 2]\n",
      " [0 0 0 2 3]\n",
      " [0 0 0 2 4]\n",
      " [0 0 0 2 5]\n",
      " [0 0 0 3 0]\n",
      " [0 0 0 3 1]]\n",
      "free colours [6, 7]\n",
      "res_arr: [[1 0 4 3 5]\n",
      " [2 1 0 5 1]\n",
      " [1 2 2 1 3]\n",
      " [1 4 3 3 3]\n",
      " [1 5 3 2 4]\n",
      " [1 4 2 2 4]\n",
      " [1 1 4 3 4]\n",
      " [0 0 2 1 2]\n",
      " [4 3 4 4 1]\n",
      " [1 5 0 0 4]\n",
      " [2 5 1 2 3]\n",
      " [1 5 4 3 2]\n",
      " [4 3 4 1 5]\n",
      " [4 5 2 1 2]\n",
      " [4 5 0 4 1]\n",
      " [1 1 1 1 3]\n",
      " [4 3 0 2 3]\n",
      " [0 5 3 4 0]\n",
      " [4 3 2 5 0]\n",
      " [5 1 3 5 5]]\n",
      "set  0  with  6\n",
      "set  1  with  7\n",
      "reduced to  7776\n",
      "[[1 0 4 3 5]\n",
      " [2 1 0 5 1]\n",
      " [1 2 2 1 3]\n",
      " ...\n",
      " [2 0 3 3 2]\n",
      " [1 0 5 1 2]\n",
      " [1 5 5 1 5]]\n",
      "[[1 4 2 2 4]\n",
      " [1 1 4 3 4]\n",
      " [4 3 4 4 1]\n",
      " ...\n",
      " [0 2 5 0 2]\n",
      " [1 1 0 4 0]\n",
      " [4 4 0 0 3]]\n",
      "698\n"
     ]
    },
    {
     "data": {
      "text/plain": [
       "array([0, 4, 2, 1, 2])"
      ]
     },
     "execution_count": 1061,
     "metadata": {},
     "output_type": "execute_result"
    }
   ],
   "source": [
    "try_set = reduce_set(g)\n",
    "print(\"reduced to \", len(try_set))\n",
    "print(try_set)\n",
    "play_random(g, try_set)"
   ]
  },
  {
   "cell_type": "code",
   "execution_count": 1062,
   "metadata": {},
   "outputs": [
    {
     "data": {
      "text/plain": [
       "(2, 2)"
      ]
     },
     "execution_count": 1062,
     "metadata": {},
     "output_type": "execute_result"
    }
   ],
   "source": [
    "g.play(to_l(\"04212\"))"
   ]
  },
  {
   "cell_type": "code",
   "execution_count": 1063,
   "metadata": {},
   "outputs": [
    {
     "name": "stdout",
     "output_type": "stream",
     "text": [
      "[[0, 1, 2, 3, 0], [3, 4, 2, 1, 5], [0, 4, 2, 1, 2]]\n",
      "[(4, 0), (1, 3), (2, 2)]\n",
      "1\n"
     ]
    }
   ],
   "source": [
    "print(g.guess_list)\n",
    "print(g.resp_list)\n",
    "print(len(g.set_list[-1]))"
   ]
  },
  {
   "cell_type": "code",
   "execution_count": 930,
   "metadata": {},
   "outputs": [
    {
     "data": {
      "text/plain": [
       "array([[4, 1, 4, 5, 5],\n",
       "       [4, 5, 5, 1, 1],\n",
       "       [5, 5, 4, 1, 1]])"
      ]
     },
     "execution_count": 930,
     "metadata": {},
     "output_type": "execute_result"
    }
   ],
   "source": [
    "g.set_list[-1]"
   ]
  },
  {
   "cell_type": "code",
   "execution_count": 929,
   "metadata": {},
   "outputs": [
    {
     "data": {
      "text/plain": [
       "[(1, 1), (2, 0), (1, 1)]"
      ]
     },
     "execution_count": 929,
     "metadata": {},
     "output_type": "execute_result"
    }
   ],
   "source": [
    "resp_list(to_l(\"43221\"), g.set_list[-1])"
   ]
  },
  {
   "cell_type": "code",
   "execution_count": 927,
   "metadata": {},
   "outputs": [
    {
     "data": {
      "text/plain": [
       "True"
      ]
     },
     "execution_count": 927,
     "metadata": {},
     "output_type": "execute_result"
    }
   ],
   "source": [
    "np.array(g.code) in g.set_list[-1]"
   ]
  },
  {
   "cell_type": "code",
   "execution_count": 926,
   "metadata": {},
   "outputs": [
    {
     "ename": "AttributeError",
     "evalue": "'numpy.ndarray' object has no attribute 'index'",
     "output_type": "error",
     "traceback": [
      "\u001b[1;31m---------------------------------------------------------------------------\u001b[0m",
      "\u001b[1;31mAttributeError\u001b[0m                            Traceback (most recent call last)",
      "\u001b[1;32m<ipython-input-926-8238fc11f4a9>\u001b[0m in \u001b[0;36m<module>\u001b[1;34m\u001b[0m\n\u001b[1;32m----> 1\u001b[1;33m \u001b[0mg\u001b[0m\u001b[1;33m.\u001b[0m\u001b[0mset_list\u001b[0m\u001b[1;33m[\u001b[0m\u001b[1;33m-\u001b[0m\u001b[1;36m1\u001b[0m\u001b[1;33m]\u001b[0m\u001b[1;33m.\u001b[0m\u001b[0mindex\u001b[0m\u001b[1;33m(\u001b[0m\u001b[1;33m[\u001b[0m\u001b[1;36m5\u001b[0m\u001b[1;33m,\u001b[0m\u001b[1;36m5\u001b[0m\u001b[1;33m,\u001b[0m\u001b[1;36m4\u001b[0m\u001b[1;33m,\u001b[0m\u001b[1;36m1\u001b[0m\u001b[1;33m,\u001b[0m\u001b[1;36m1\u001b[0m\u001b[1;33m]\u001b[0m\u001b[1;33m)\u001b[0m\u001b[1;33m\u001b[0m\u001b[1;33m\u001b[0m\u001b[0m\n\u001b[0m",
      "\u001b[1;31mAttributeError\u001b[0m: 'numpy.ndarray' object has no attribute 'index'"
     ]
    }
   ],
   "source": [
    "g.set_list[-1].index([5,5,4,1,1])"
   ]
  },
  {
   "cell_type": "code",
   "execution_count": 12,
   "metadata": {},
   "outputs": [],
   "source": [
    "code = [int(i) for i in \"00111\"]\n",
    "nb_tests = 20000\n",
    "sets = init_set\n",
    "sets.append([int(i) for i in \"11100\"])\n",
    "sets = np.array(sets)\n",
    "codes = np.repeat([code], len(init_set), axis = 0)"
   ]
  },
  {
   "cell_type": "code",
   "execution_count": 68,
   "metadata": {},
   "outputs": [],
   "source": [
    "if True: #testing database\n",
    "    code = [int(i) for i in \"00111\"]\n",
    "    nb_tests = 6\n",
    "    sets = [[random.randint(0, colours-1) for _ in range(places)] for _ in range(nb_tests-1)]\n",
    "    sets.append([int(i) for i in \"11100\"])\n",
    "    sets = np.array(sets)\n",
    "    codes = np.repeat([code], nb_tests, axis = 0)"
   ]
  },
  {
   "cell_type": "code",
   "execution_count": 69,
   "metadata": {},
   "outputs": [
    {
     "data": {
      "text/plain": [
       "array([[0, 0, 1, 1, 1],\n",
       "       [0, 0, 1, 1, 1],\n",
       "       [0, 0, 1, 1, 1],\n",
       "       [0, 0, 1, 1, 1],\n",
       "       [0, 0, 1, 1, 1],\n",
       "       [0, 0, 1, 1, 1]])"
      ]
     },
     "execution_count": 69,
     "metadata": {},
     "output_type": "execute_result"
    }
   ],
   "source": [
    "codes"
   ]
  },
  {
   "cell_type": "code",
   "execution_count": 70,
   "metadata": {},
   "outputs": [
    {
     "data": {
      "text/plain": [
       "array([[2, 4, 5, 4, 4],\n",
       "       [2, 3, 3, 4, 2],\n",
       "       [5, 5, 7, 4, 5],\n",
       "       [2, 6, 7, 1, 3],\n",
       "       [2, 3, 4, 6, 4],\n",
       "       [1, 1, 1, 0, 0]])"
      ]
     },
     "execution_count": 70,
     "metadata": {},
     "output_type": "execute_result"
    }
   ],
   "source": [
    "sets"
   ]
  },
  {
   "cell_type": "code",
   "execution_count": 71,
   "metadata": {},
   "outputs": [
    {
     "name": "stdout",
     "output_type": "stream",
     "text": [
      "[0 0 0 1 0 1]\n"
     ]
    }
   ],
   "source": [
    "# nb blacks directly\n",
    "eq = np.equal(codes,sets)\n",
    "blacks = eq.sum(axis=1) \n",
    "print(blacks)"
   ]
  },
  {
   "cell_type": "code",
   "execution_count": 72,
   "metadata": {},
   "outputs": [
    {
     "data": {
      "text/plain": [
       "masked_array(\n",
       "  data=[[0, 0, 1, 1, 1],\n",
       "        [0, 0, 1, 1, 1],\n",
       "        [0, 0, 1, 1, 1],\n",
       "        [0, 0, 1, --, 1],\n",
       "        [0, 0, 1, 1, 1],\n",
       "        [0, 0, --, 1, 1]],\n",
       "  mask=[[False, False, False, False, False],\n",
       "        [False, False, False, False, False],\n",
       "        [False, False, False, False, False],\n",
       "        [False, False, False,  True, False],\n",
       "        [False, False, False, False, False],\n",
       "        [False, False,  True, False, False]],\n",
       "  fill_value=999999)"
      ]
     },
     "execution_count": 72,
     "metadata": {},
     "output_type": "execute_result"
    }
   ],
   "source": [
    "codes_ma = ma.array(codes, mask =eq)\n",
    "codes_ma"
   ]
  },
  {
   "cell_type": "code",
   "execution_count": 73,
   "metadata": {},
   "outputs": [
    {
     "data": {
      "text/plain": [
       "masked_array(\n",
       "  data=[[2, 4, 5, 4, 4],\n",
       "        [2, 3, 3, 4, 2],\n",
       "        [5, 5, 7, 4, 5],\n",
       "        [2, 6, 7, --, 3],\n",
       "        [2, 3, 4, 6, 4],\n",
       "        [1, 1, --, 0, 0]],\n",
       "  mask=[[False, False, False, False, False],\n",
       "        [False, False, False, False, False],\n",
       "        [False, False, False, False, False],\n",
       "        [False, False, False,  True, False],\n",
       "        [False, False, False, False, False],\n",
       "        [False, False,  True, False, False]],\n",
       "  fill_value=999999)"
      ]
     },
     "execution_count": 73,
     "metadata": {},
     "output_type": "execute_result"
    }
   ],
   "source": [
    "sets_ma = ma.array(sets, mask = eq)\n",
    "sets_ma"
   ]
  },
  {
   "cell_type": "code",
   "execution_count": 74,
   "metadata": {},
   "outputs": [
    {
     "data": {
      "text/plain": [
       "masked_array(\n",
       "  data=[[2, 2, 5, 2, 2, 1],\n",
       "        [2, 2, 5, 2, 2, 1],\n",
       "        [2, 2, 5, 2, 2, 1],\n",
       "        [2, 2, 5, 2, 2, 1],\n",
       "        [2, 2, 5, 2, 2, 1]],\n",
       "  mask=False,\n",
       "  fill_value=999999)"
      ]
     },
     "execution_count": 74,
     "metadata": {},
     "output_type": "execute_result"
    }
   ],
   "source": [
    "first = ma.repeat([sets_ma[:,0]], sets.shape[1], axis = 0)\n",
    "first"
   ]
  },
  {
   "cell_type": "code",
   "execution_count": 75,
   "metadata": {},
   "outputs": [
    {
     "data": {
      "text/plain": [
       "masked_array(\n",
       "  data=[[0, 0, 0, 0, 0, 0],\n",
       "        [0, 0, 0, 0, 0, 0],\n",
       "        [1, 1, 1, 1, 1, --],\n",
       "        [1, 1, 1, --, 1, 1],\n",
       "        [1, 1, 1, 1, 1, 1]],\n",
       "  mask=[[False, False, False, False, False, False],\n",
       "        [False, False, False, False, False, False],\n",
       "        [False, False, False, False, False,  True],\n",
       "        [False, False, False,  True, False, False],\n",
       "        [False, False, False, False, False, False]],\n",
       "  fill_value=999999)"
      ]
     },
     "execution_count": 75,
     "metadata": {},
     "output_type": "execute_result"
    }
   ],
   "source": [
    "codes_wh = codes_ma.T\n",
    "codes_wh"
   ]
  },
  {
   "cell_type": "code",
   "execution_count": 76,
   "metadata": {},
   "outputs": [],
   "source": [
    "w1 = np.equal(first, codes_wh)\n",
    "s1 = w1.sum(axis = 0)"
   ]
  },
  {
   "cell_type": "code",
   "execution_count": 77,
   "metadata": {},
   "outputs": [
    {
     "data": {
      "text/plain": [
       "array([0, 0, 0, 0, 0, 1])"
      ]
     },
     "execution_count": 77,
     "metadata": {},
     "output_type": "execute_result"
    }
   ],
   "source": [
    "whites = s1 > 0\n",
    "w = np.array(whites.astype(int))\n",
    "w"
   ]
  },
  {
   "cell_type": "code",
   "execution_count": 78,
   "metadata": {},
   "outputs": [],
   "source": [
    "\n"
   ]
  },
  {
   "cell_type": "code",
   "execution_count": 79,
   "metadata": {},
   "outputs": [
    {
     "name": "stdout",
     "output_type": "stream",
     "text": [
      "[0, 0, 1, 1, 1]\n",
      "[[2 4 5 4 4]\n",
      " [2 3 3 4 2]\n",
      " [5 5 7 4 5]\n",
      " [2 6 7 -- 3]\n",
      " [2 3 4 6 4]\n",
      " [1 1 -- 0 0]]\n"
     ]
    }
   ],
   "source": [
    "print(code)\n",
    "print(sets_ma)"
   ]
  },
  {
   "cell_type": "code",
   "execution_count": 271,
   "metadata": {},
   "outputs": [
    {
     "name": "stdout",
     "output_type": "stream",
     "text": [
      "blacks [0 0 0 1 0 5]\n",
      "ft [-1 -1 -1 -1 -1  3]\n",
      "codes\n",
      " [[0 0 0 0 0 0]\n",
      " [0 0 0 0 0 0]\n",
      " [1 1 1 1 1 --]\n",
      " [1 1 1 -- 1 --]\n",
      " [1 1 1 1 1 1]]\n",
      "codes\n",
      " [[0 0 0 0 0 0]\n",
      " [0 0 0 0 0 0]\n",
      " [1 1 1 1 1 --]\n",
      " [1 1 1 -- 1 --]\n",
      " [1 1 1 1 1 1]]\n",
      "ft [-1 -1 -1 -1 -1  4]\n",
      "codes\n",
      " [[0 0 0 0 0 0]\n",
      " [0 0 0 0 0 0]\n",
      " [1 1 1 1 1 --]\n",
      " [1 1 1 -- 1 --]\n",
      " [1 1 1 1 1 --]]\n",
      "codes\n",
      " [[0 0 0 0 0 0]\n",
      " [0 0 0 0 0 0]\n",
      " [1 1 1 1 1 --]\n",
      " [1 1 1 -- 1 --]\n",
      " [1 1 1 1 1 --]]\n",
      "ft [-1 -1 -1 -1 -1 -1]\n",
      "codes\n",
      " [[0 0 0 0 0 0]\n",
      " [0 0 0 0 0 0]\n",
      " [1 1 1 1 1 --]\n",
      " [1 1 1 -- 1 --]\n",
      " [1 1 1 1 1 --]]\n",
      "codes\n",
      " [[0 0 0 0 0 0]\n",
      " [0 0 0 0 0 0]\n",
      " [1 1 1 1 1 --]\n",
      " [1 1 1 -- 1 --]\n",
      " [1 1 1 1 1 --]]\n",
      "ft [-1 -1 -1 -1 -1  0]\n",
      "codes\n",
      " [[0 0 0 0 0 --]\n",
      " [0 0 0 0 0 0]\n",
      " [1 1 1 1 1 --]\n",
      " [1 1 1 -- 1 --]\n",
      " [1 1 1 1 1 --]]\n",
      "codes\n",
      " [[0 0 0 0 0 --]\n",
      " [0 0 0 0 0 0]\n",
      " [1 1 1 1 1 --]\n",
      " [1 1 1 -- 1 --]\n",
      " [1 1 1 1 1 --]]\n",
      "ft [-1 -1 -1 -1 -1  1]\n",
      "codes\n",
      " [[0 0 0 0 0 --]\n",
      " [0 0 0 0 0 --]\n",
      " [1 1 1 1 1 --]\n",
      " [1 1 1 -- 1 --]\n",
      " [1 1 1 1 1 --]]\n",
      "codes\n",
      " [[0 0 0 0 0 --]\n",
      " [0 0 0 0 0 --]\n",
      " [1 1 1 1 1 --]\n",
      " [1 1 1 -- 1 --]\n",
      " [1 1 1 1 1 --]]\n",
      "4\n",
      "Counter({(0, 0): 4, (1, 0): 1, (5, 4): 1})\n"
     ]
    },
    {
     "name": "stderr",
     "output_type": "stream",
     "text": [
      "c:\\users\\lm217404\\appdata\\local\\continuum\\anaconda3\\lib\\site-packages\\numpy\\ma\\core.py:3312: FutureWarning: Using a non-tuple sequence for multidimensional indexing is deprecated; use `arr[tuple(seq)]` instead of `arr[seq]`. In the future this will be interpreted as an array index, `arr[np.array(seq)]`, which will result either in an error or a different result.\n",
      "  _mask[indx] = True\n"
     ]
    },
    {
     "data": {
      "text/plain": [
       "dict_values([4, 1, 1])"
      ]
     },
     "execution_count": 271,
     "metadata": {},
     "output_type": "execute_result"
    }
   ],
   "source": [
    "\n",
    "blacks = eq.sum(axis=1) \n",
    "print(\"blacks\", blacks)\n",
    "\n",
    "\n",
    "eq = np.equal(codes,sets)\n",
    "eq2 = np.equal(codes,sets)\n",
    "codes_ma = ma.array(codes, mask =eq)\n",
    "codes_wh = codes_ma.T\n",
    "sets_ma = ma.array(sets, mask = eq2)\n",
    "\n",
    "def calc_whites(codes, sets):\n",
    "    whites = np.zeros(len(codes[0]), int)\n",
    "    for i in range(len(codes.T[0])):\n",
    "        #print(\"Test %d columns %s\" %(i,sets[:,i]))\n",
    "        #print(\"sets\", sets)\n",
    "        columns = ma.repeat([sets[:,i]], sets.shape[1], axis = 0)\n",
    "        res = np.equal(columns, codes_wh)\n",
    "        su = res.sum(axis = 0)\n",
    "        #print(\"res   \\n\", res.T)\n",
    "        bo = su > 0\n",
    "        whites = whites + np.array(bo).astype(int)\n",
    "        #print(\"whites\", whites)\n",
    "        ft = first_true(res,0)\n",
    "        arg_ok = np.argwhere(np.array(ft) != -1)[:,0]\n",
    "        ft_idx = [tuple(np.array(ft)[arg_ok]), tuple(arg_ok) ]\n",
    "        codes[ft_idx] = ma.masked\n",
    "        print(\"ft\", ft)\n",
    "        print(\"codes\\n\", codes)\n",
    "        #for j in range(len(res.T)):\n",
    "        #    if ft[j] != -1:\n",
    "        #        codes[ft[j],j] = ma.masked\n",
    "        #codes[ft,(i)*len(ft)] = ma.masked\n",
    "        print(\"codes\\n\", codes)\n",
    "        \n",
    "        #print(\"codes\\n\", codes)\n",
    "    return whites\n",
    "\n",
    "whites = calc_whites(codes_wh, sets_ma)\n",
    "print(sum(whites))\n",
    "results = list(zip(blacks, whites))\n",
    "distrib = np.array(list(Counter(results).values()))\n",
    "\n",
    "print(Counter(results))\n",
    "Counter(results).values() # counts the elements' frequency"
   ]
  },
  {
   "cell_type": "code",
   "execution_count": 158,
   "metadata": {},
   "outputs": [
    {
     "name": "stdout",
     "output_type": "stream",
     "text": [
      "[[0 0 1 -- --]\n",
      " [0 0 1 1 1]\n",
      " [0 0 1 1 1]\n",
      " [0 0 1 -- 1]\n",
      " [0 0 1 1 1]\n",
      " [0 0 -- 1 1]]\n",
      "[0 3 4]\n",
      "[1 3 1]\n",
      "[[ True False False  True  True]\n",
      " [False  True  True  True  True]]\n",
      "[(0, 3, 4), (1, 3, 1)]\n",
      "[[0 -- 1 -- --]\n",
      " [0 0 1 1 1]\n",
      " [0 0 1 1 1]\n",
      " [0 0 1 -- 1]\n",
      " [0 -- 1 1 1]\n",
      " [0 0 -- 1 1]]\n"
     ]
    }
   ],
   "source": [
    "print(codes_ma)\n",
    "test_ma = ma.copy(codes_ma)\n",
    "ft = [1,-1,-1,3,1]\n",
    "arg_ok = np.argwhere(np.array(ft) != -1)[:,0]\n",
    "print((np.array(arg_ok)))\n",
    "print(np.array(ft)[arg_ok])\n",
    "ft_idx = [tuple(arg_ok), tuple(np.array(ft)[arg_ok])]\n",
    "#ft_rmvd = ft_idx > 0\n",
    "print(ft_rmvd)\n",
    "print(ft_idx)\n",
    "test_ma[ft_idx] = ma.masked\n",
    "print(test_ma)\n"
   ]
  },
  {
   "cell_type": "code",
   "execution_count": 156,
   "metadata": {},
   "outputs": [
    {
     "data": {
      "text/plain": [
       "(0, 3, 4)"
      ]
     },
     "execution_count": 156,
     "metadata": {},
     "output_type": "execute_result"
    }
   ],
   "source": [
    "b = np.argwhere(np.array(ft) != -1)[:,0]\n",
    "tuple(b)"
   ]
  },
  {
   "cell_type": "code",
   "execution_count": 87,
   "metadata": {},
   "outputs": [
    {
     "data": {
      "text/plain": [
       "-1.242453324894"
      ]
     },
     "execution_count": 87,
     "metadata": {},
     "output_type": "execute_result"
    }
   ],
   "source": [
    "disp= distrib/sum(distrib)\n",
    "sum(np.log(disp)*disp)"
   ]
  },
  {
   "cell_type": "code",
   "execution_count": 273,
   "metadata": {},
   "outputs": [],
   "source": [
    "\n",
    "\n",
    "init_set_ar = np.array(init_set)\n",
    "#%timeit entropy(code, init_set_ar)"
   ]
  },
  {
   "cell_type": "code",
   "execution_count": 192,
   "metadata": {},
   "outputs": [],
   "source": [
    "%lprun -f entropy entropy(code, init_set_ar)"
   ]
  },
  {
   "cell_type": "code",
   "execution_count": 193,
   "metadata": {},
   "outputs": [
    {
     "data": {
      "text/plain": [
       "1.9891050050191246"
      ]
     },
     "execution_count": 193,
     "metadata": {},
     "output_type": "execute_result"
    }
   ],
   "source": [
    "entropy(code, init_set_ar)"
   ]
  },
  {
   "cell_type": "code",
   "execution_count": 539,
   "metadata": {},
   "outputs": [],
   "source": [
    "from itertools import product\n",
    "col = list(range(colours))"
   ]
  },
  {
   "cell_type": "code",
   "execution_count": null,
   "metadata": {},
   "outputs": [],
   "source": [
    "res = {}\n",
    "for i in range(len(init_set)):\n",
    "    res[init_set[i]] = entropy(init_set[i], init_set_ar)\n",
    "    if i % 100 == 0:\n",
    "        print(i)"
   ]
  },
  {
   "cell_type": "raw",
   "metadata": {},
   "source": [
    "%timeit len(list(product(col,repeat = places)))"
   ]
  },
  {
   "cell_type": "code",
   "execution_count": 550,
   "metadata": {},
   "outputs": [
    {
     "data": {
      "text/plain": [
       "tuple"
      ]
     },
     "execution_count": 550,
     "metadata": {},
     "output_type": "execute_result"
    }
   ],
   "source": [
    "type(list(product(col,repeat = places))[0])"
   ]
  },
  {
   "cell_type": "code",
   "execution_count": 553,
   "metadata": {},
   "outputs": [],
   "source": [
    "init_set = list(product(list(range(colours)),repeat = places))"
   ]
  },
  {
   "cell_type": "code",
   "execution_count": 554,
   "metadata": {},
   "outputs": [
    {
     "data": {
      "text/plain": [
       "32768"
      ]
     },
     "execution_count": 554,
     "metadata": {},
     "output_type": "execute_result"
    }
   ],
   "source": [
    "len(init_set)"
   ]
  },
  {
   "cell_type": "code",
   "execution_count": 199,
   "metadata": {},
   "outputs": [],
   "source": [
    "f = open(\"res_first.txt\", \"w\")\n",
    "f.write(str(res))\n",
    "f.close()"
   ]
  },
  {
   "cell_type": "code",
   "execution_count": 208,
   "metadata": {},
   "outputs": [],
   "source": [
    "res_trunc = {}\n",
    "\n",
    "for k,v in res.items():\n",
    "    res_trunc[k] = round(res[k], 6)"
   ]
  },
  {
   "cell_type": "code",
   "execution_count": 214,
   "metadata": {},
   "outputs": [
    {
     "name": "stdout",
     "output_type": "stream",
     "text": [
      "{1.017037: 8, 2.024142: 280, 1.989105: 560, 2.25075: 3360, 2.263648: 5040, 2.312146: 16800, 2.239942: 6720}\n",
      "7\n",
      "32768\n"
     ]
    }
   ],
   "source": [
    "hist_res = {}\n",
    "for k,v in res_trunc.items():\n",
    "    if v not in hist_res.keys():\n",
    "        hist_res[v] = 1\n",
    "    else:\n",
    "        hist_res[v] += 1\n",
    "print(hist_res)\n",
    "print(len(hist_res))\n",
    "print(sum(hist_res.values()))"
   ]
  },
  {
   "cell_type": "code",
   "execution_count": 216,
   "metadata": {},
   "outputs": [],
   "source": [
    "def to_l(string):\n",
    "    return [int(s) for s in string]"
   ]
  },
  {
   "cell_type": "code",
   "execution_count": 217,
   "metadata": {},
   "outputs": [
    {
     "data": {
      "text/plain": [
       "1.0170366574100151"
      ]
     },
     "execution_count": 217,
     "metadata": {},
     "output_type": "execute_result"
    }
   ],
   "source": [
    "entropy(to_l(\"00000\"), init_set_ar)"
   ]
  },
  {
   "cell_type": "code",
   "execution_count": 218,
   "metadata": {},
   "outputs": [
    {
     "data": {
      "text/plain": [
       "2.2636478202301484"
      ]
     },
     "execution_count": 218,
     "metadata": {},
     "output_type": "execute_result"
    }
   ],
   "source": [
    "entropy(to_l(\"11220\"), init_set_ar)"
   ]
  },
  {
   "cell_type": "code",
   "execution_count": 952,
   "metadata": {},
   "outputs": [
    {
     "name": "stdout",
     "output_type": "stream",
     "text": [
      "{'00000': 1.017037, '01111': 2.024142, '00111': 1.989105, '01222': 2.25075, '00112': 2.263648, '01233': 2.312146, '01234': 2.239942}\n"
     ]
    }
   ],
   "source": [
    "first_try = dict.fromkeys([\"00000\", \"01111\", \"00111\", \"01222\", \"00112\", \"01233\", \"01234\"])\n",
    "for k in first_try:\n",
    "    first_try[k] = round(entropy(to_l(k), init_set_ar ), 6)\n",
    "print(first_try)"
   ]
  },
  {
   "cell_type": "code",
   "execution_count": 953,
   "metadata": {},
   "outputs": [
    {
     "data": {
      "image/png": "[encoded data removed]",
      "text/plain": [
       "<Figure size 432x288 with 1 Axes>"
      ]
     },
     "metadata": {
      "needs_background": "light"
     },
     "output_type": "display_data"
    }
   ],
   "source": [
    "entropy_max= np.log(len(all_responses))\n",
    "ft_std = {k: v for k, v in sorted(first_try.items(), key=lambda item: item[1])}\n",
    "plt.bar(ft_std.keys(), np.array(list((ft_std.values())))*100 / entropy_max)\n",
    "plt.xlabel(\"First try\")\n",
    "plt.ylabel(\"Entropy (% entropy max)\")\n",
    "plt.savefig(\"first_try_hist.png\")\n",
    "plt.show()"
   ]
  },
  {
   "cell_type": "code",
   "execution_count": 235,
   "metadata": {},
   "outputs": [],
   "source": [
    "card =len(init_set_ar)"
   ]
  },
  {
   "cell_type": "code",
   "execution_count": 238,
   "metadata": {},
   "outputs": [
    {
     "data": {
      "text/plain": [
       "-10.39720770839918"
      ]
     },
     "execution_count": 238,
     "metadata": {},
     "output_type": "execute_result"
    }
   ],
   "source": [
    "np.log(1/card)"
   ]
  },
  {
   "cell_type": "code",
   "execution_count": 243,
   "metadata": {},
   "outputs": [],
   "source": [
    "all_responses = [(i,j) for i in range(places+1) for j in range(places+1) if i+j<6]"
   ]
  },
  {
   "cell_type": "code",
   "execution_count": 252,
   "metadata": {},
   "outputs": [],
   "source": [
    "optimum = card / len(all_responses)\n",
    "entropy_max= np.log(len(all_responses))"
   ]
  },
  {
   "cell_type": "code",
   "execution_count": 266,
   "metadata": {},
   "outputs": [
    {
     "data": {
      "text/plain": [
       "array([33.40546903, 65.33389195, 66.48471284, 73.57285242, 73.92785062,\n",
       "       74.35149671, 75.9444559 ])"
      ]
     },
     "execution_count": 266,
     "metadata": {},
     "output_type": "execute_result"
    }
   ],
   "source": [
    "np.array(list((ft_std.values())))*100 / entropy_max"
   ]
  },
  {
   "cell_type": "code",
   "execution_count": 376,
   "metadata": {},
   "outputs": [
    {
     "name": "stdout",
     "output_type": "stream",
     "text": [
      "70.2 ms ± 1.97 ms per loop (mean ± std. dev. of 7 runs, 10 loops each)\n"
     ]
    }
   ],
   "source": [
    "def set_aft_resp(guess, response, set_list):\n",
    "    responses = resp_list(guess, set_list)\n",
    "    #expected result\n",
    "    xptd_rep = np.repeat([response], len(responses), axis=0)\n",
    "    # test equality, sum on axis, if == 2 exactcly the same then gets the arguments\n",
    "    equality = (responses == xptd_rep)\n",
    "    s = np.sum(equality, axis=1) \n",
    "    args = (s == 2)\n",
    "    return set_list[args]\n",
    "    \n",
    "%timeit set_aft_resp(to_l(\"01234\"), (0,5), init_set_ar)\n",
    "%lprun -f set_aft_resp set_aft_resp(to_l(\"01234\"), (0,5), init_set_ar)"
   ]
  },
  {
   "cell_type": "code",
   "execution_count": 375,
   "metadata": {},
   "outputs": [
    {
     "name": "stdout",
     "output_type": "stream",
     "text": [
      "64.6 ms ± 5.47 ms per loop (mean ± std. dev. of 7 runs, 10 loops each)\n"
     ]
    }
   ],
   "source": [
    "# actually not slow on this simple example\n",
    "# sometimes looping is not so bad\n",
    "def slow_aft_resp(guess, response, set_list):\n",
    "    responses = resp_list(guess, set_list)\n",
    "    res = []\n",
    "    for i,rep in enumerate(responses):\n",
    "        if rep == response:\n",
    "            res.append(set_list[i])\n",
    "    return res\n",
    "\n",
    "%timeit slow_aft_resp(to_l(\"01234\"), (0,5), init_set_ar)     \n",
    "%lprun -f slow_aft_resp slow_aft_resp(to_l(\"01234\"), (0,5), init_set_ar) "
   ]
  },
  {
   "cell_type": "code",
   "execution_count": 342,
   "metadata": {},
   "outputs": [
    {
     "data": {
      "text/plain": [
       "array([[1, 0, 0, 0, 0],\n",
       "       [1, 0, 0, 0, 1],\n",
       "       [1, 0, 0, 0, 2],\n",
       "       ...,\n",
       "       [7, 7, 7, 7, 5],\n",
       "       [7, 7, 7, 7, 6],\n",
       "       [7, 7, 7, 7, 7]])"
      ]
     },
     "execution_count": 342,
     "metadata": {},
     "output_type": "execute_result"
    }
   ],
   "source": [
    "init_set_ar[np.argwhere(rep == np.array([0,5]))[:,0]]\n",
    "init_set_ar[np.argwhere(rep == [0,5])[:,0]]"
   ]
  },
  {
   "cell_type": "code",
   "execution_count": null,
   "metadata": {},
   "outputs": [],
   "source": []
  },
  {
   "cell_type": "code",
   "execution_count": null,
   "metadata": {},
   "outputs": [],
   "source": [
    "#expected result\n",
    "xptd_rep = np.repeat([[0,5]], rep.shape[0], axis=0)\n",
    "# test equality, sum on axis, if == 2 exactcly the same then gets the arguments\n",
    "init_set_ar[(np.sum(rep == xptd_rep, axis=1) == 2)]"
   ]
  },
  {
   "cell_type": "code",
   "execution_count": 708,
   "metadata": {},
   "outputs": [],
   "source": [
    "def play_bg_entropy(set_list, set_tries):\n",
    "    res = {}\n",
    "    for i in range(len(set_tries)):\n",
    "        res[str(set_tries[i])] = round(entropy(set_tries[i], set_list),6)\n",
    "    return res\n",
    "\n",
    "def return_bg(set_list, set_tries):\n",
    "    res = np.zeros(len(set_tries))\n",
    "    for i in range(len(set_tries)):\n",
    "        res[i] = round(entropy(set_tries[i], set_list),6)\n",
    "    argmax = np.argwhere(res == res.max())[:,0]\n",
    "    return(set_tries[argmax])\n",
    "    \n",
    "\n",
    "def play_random(g, try_list):\n",
    "    poss = return_bg(g.set_list[g.cur_move], try_list)\n",
    "    r = random.randint(0,len(poss)-1)\n",
    "    print((poss))\n",
    "    print(r)\n",
    "    return poss[random.randint(0,len(poss)-1)]"
   ]
  },
  {
   "cell_type": "code",
   "execution_count": 709,
   "metadata": {},
   "outputs": [
    {
     "name": "stdout",
     "output_type": "stream",
     "text": [
      "44\n",
      "1\n",
      "[[0 4 0 0 0]\n",
      " [0 4 0 0 4]\n",
      " [0 4 0 0 5]\n",
      " ...\n",
      " [7 7 7 1 3]\n",
      " [7 7 7 2 0]\n",
      " [7 7 7 2 1]]\n",
      "[[1 4 0 2 3]\n",
      " [2 4 1 0 3]\n",
      " [3 4 1 2 0]\n",
      " [4 2 1 0 3]\n",
      " [4 3 1 2 0]]\n",
      "3\n"
     ]
    },
    {
     "data": {
      "text/plain": [
       "array([3, 4, 1, 2, 0])"
      ]
     },
     "execution_count": 709,
     "metadata": {},
     "output_type": "execute_result"
    }
   ],
   "source": [
    "r = set_aft_resp(to_l(\"01234\"), (0,5), init_set_ar)\n",
    "print(len(r))\n",
    "print(g.cur_move)\n",
    "print(g.set_list[-1])\n",
    "play_random(g, r)\n",
    "#%timeit res_test= play_bg_entropy_np(r, r)\n",
    "#%timeit res_test= play_bg_entropy(r, r)"
   ]
  },
  {
   "cell_type": "code",
   "execution_count": 424,
   "metadata": {},
   "outputs": [
    {
     "data": {
      "text/plain": [
       "array([1, 2, 3, 4, 0])"
      ]
     },
     "execution_count": 424,
     "metadata": {},
     "output_type": "execute_result"
    }
   ],
   "source": [
    "# There are 21 possible responses to the first try \n",
    "rr = np.vectorize(round)\n",
    "res05 = rr(res05, 6)\n",
    "res05.max()\n",
    "r[res_test.argmax()]"
   ]
  },
  {
   "cell_type": "code",
   "execution_count": null,
   "metadata": {},
   "outputs": [],
   "source": [
    "init_set_ar[np.argwhere(res05 == res05.max())[:,0]]"
   ]
  },
  {
   "cell_type": "code",
   "execution_count": 423,
   "metadata": {},
   "outputs": [
    {
     "data": {
      "text/plain": [
       "Counter({(1, 3): 9,\n",
       "         (2, 2): 2,\n",
       "         (4, 1): 2,\n",
       "         (2, 3): 8,\n",
       "         (3, 2): 3,\n",
       "         (0, 4): 11,\n",
       "         (1, 4): 9})"
      ]
     },
     "execution_count": 423,
     "metadata": {},
     "output_type": "execute_result"
    }
   ],
   "source": [
    "Counter(resp_list([1, 2, 0, 0, 3], r))"
   ]
  },
  {
   "cell_type": "code",
   "execution_count": 435,
   "metadata": {},
   "outputs": [
    {
     "data": {
      "text/plain": [
       "array([ 25, 225,   1, 100, 169], dtype=int32)"
      ]
     },
     "execution_count": 435,
     "metadata": {},
     "output_type": "execute_result"
    }
   ],
   "source": [
    "np.array(list(Counter(resp_list([1, 2, 3, 4, 0],r)).values()))**2"
   ]
  },
  {
   "cell_type": "code",
   "execution_count": 440,
   "metadata": {},
   "outputs": [
    {
     "name": "stdout",
     "output_type": "stream",
     "text": [
      "8.272727272727273\n",
      "11.818181818181818\n"
     ]
    }
   ],
   "source": [
    "# esperance from a distribution of responses\n",
    "def esp(di):\n",
    "    n = np.array(list(di.values()))\n",
    "    return sum(n**2)/sum(n)\n",
    "\n",
    "print(esp(Counter(resp_list([1, 2, 0, 0, 3], r))))\n",
    "print(esp(Counter(resp_list([1, 2, 3, 4, 0],r))))"
   ]
  },
  {
   "cell_type": "code",
   "execution_count": 446,
   "metadata": {},
   "outputs": [
    {
     "data": {
      "text/plain": [
       "3125"
      ]
     },
     "execution_count": 446,
     "metadata": {},
     "output_type": "execute_result"
    }
   ],
   "source": [
    "try_set = list(product(colour_list,repeat = places))\n",
    "\n",
    "len(try_set)"
   ]
  },
  {
   "cell_type": "code",
   "execution_count": 447,
   "metadata": {},
   "outputs": [
    {
     "data": {
      "text/plain": [
       "3125"
      ]
     },
     "execution_count": 447,
     "metadata": {},
     "output_type": "execute_result"
    }
   ],
   "source": [
    "5**5"
   ]
  },
  {
   "cell_type": "code",
   "execution_count": 734,
   "metadata": {},
   "outputs": [],
   "source": [
    "def free_set(free_colors, set_list):\n",
    "    if len(free_colors) <= 1:\n",
    "        return set_list\n",
    "    else:\n",
    "        res_list = []\n",
    "        for g in set_list: \n",
    "            g_res = []\n",
    "            hash_res = {}\n",
    "            nb_fc = 0\n",
    "            for c in g:               \n",
    "                if c in free_colors:\n",
    "                    if c not in hash_res.keys():\n",
    "                        nb_fc += 1\n",
    "                        hash_res[c] = - nb_fc\n",
    "                    g_res.append(hash_res[c])\n",
    "                    \n",
    "                else:\n",
    "                    g_res.append(c)\n",
    "            res_list.append(str(g_res).strip('[]'))\n",
    "    # keep unique values\n",
    "    res_set = set(res_list)\n",
    "    # str to list \n",
    "    res_arr = np.array([[int(e) for e in s.split(',')] for s in string])\n",
    "    for i, col in enumerate(free_colors):\n",
    "        res_arr[res_arr == -i] = col\n",
    "    return res_arr\n",
    "                "
   ]
  },
  {
   "cell_type": "code",
   "execution_count": 737,
   "metadata": {},
   "outputs": [
    {
     "name": "stdout",
     "output_type": "stream",
     "text": [
      "4735\n",
      "32768\n"
     ]
    }
   ],
   "source": [
    "fr = free_set([4,5,6,7], init_set)\n",
    "#len(reduce(lambda l, x: l.append(x) or l if x not in l else l, fr, []))\n",
    "print(len(fr))\n",
    "print(len(init_set))"
   ]
  },
  {
   "cell_type": "code",
   "execution_count": 724,
   "metadata": {},
   "outputs": [
    {
     "data": {
      "text/plain": [
       "[3, -1, -1, -2, 2]"
      ]
     },
     "execution_count": 724,
     "metadata": {},
     "output_type": "execute_result"
    }
   ],
   "source": [
    "unique = []\n",
    "for e in fr:\n",
    "    if e not in unique:\n",
    "        unique.append(e)\n",
    "\n",
    "[int(e) for e in unique[0].strip('[]').split(',')]"
   ]
  },
  {
   "cell_type": "code",
   "execution_count": 712,
   "metadata": {},
   "outputs": [
    {
     "data": {
      "text/plain": [
       "4735"
      ]
     },
     "execution_count": 712,
     "metadata": {},
     "output_type": "execute_result"
    }
   ],
   "source": [
    "len(unique)"
   ]
  },
  {
   "cell_type": "code",
   "execution_count": 725,
   "metadata": {},
   "outputs": [],
   "source": [
    "string = []\n",
    "for e in fr:\n",
    "    string.append(str(e).strip('[]'))"
   ]
  },
  {
   "cell_type": "code",
   "execution_count": 726,
   "metadata": {},
   "outputs": [
    {
     "data": {
      "text/plain": [
       "4735"
      ]
     },
     "execution_count": 726,
     "metadata": {},
     "output_type": "execute_result"
    }
   ],
   "source": [
    "len(set(string))"
   ]
  },
  {
   "cell_type": "code",
   "execution_count": 732,
   "metadata": {},
   "outputs": [],
   "source": [
    "r = np.array([[int(e) for e in s.split(',')] for s in string])\n",
    "r[r == -1] = 4"
   ]
  },
  {
   "cell_type": "code",
   "execution_count": 733,
   "metadata": {},
   "outputs": [
    {
     "data": {
      "text/plain": [
       "array([[ 3,  4,  4, -2,  2],\n",
       "       [ 4,  0,  0,  4,  2],\n",
       "       [ 4,  3,  0, -2,  0],\n",
       "       ...,\n",
       "       [ 4,  3,  3,  3,  1],\n",
       "       [ 0,  3,  0,  4, -2],\n",
       "       [ 1,  1,  4,  2,  4]])"
      ]
     },
     "execution_count": 733,
     "metadata": {},
     "output_type": "execute_result"
    }
   ],
   "source": [
    "r"
   ]
  },
  {
   "cell_type": "code",
   "execution_count": null,
   "metadata": {},
   "outputs": [],
   "source": []
  }
 ],
 "metadata": {
  "kernelspec": {
   "display_name": "Python 3",
   "language": "python",
   "name": "python3"
  },
  "language_info": {
   "codemirror_mode": {
    "name": "ipython",
    "version": 3
   },
   "file_extension": ".py",
   "mimetype": "text/x-python",
   "name": "python",
   "nbconvert_exporter": "python",
   "pygments_lexer": "ipython3",
   "version": "3.7.2"
  }
 },
 "nbformat": 4,
 "nbformat_minor": 2
}
